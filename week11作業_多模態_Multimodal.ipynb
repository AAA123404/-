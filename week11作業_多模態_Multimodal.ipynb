{
  "cells": [
    {
      "cell_type": "markdown",
      "metadata": {
        "id": "view-in-github",
        "colab_type": "text"
      },
      "source": [
        "<a href=\"https://colab.research.google.com/github/AAA123404/Financial-big-data-analysis/blob/main/week11%E4%BD%9C%E6%A5%AD_%E5%A4%9A%E6%A8%A1%E6%85%8B_Multimodal.ipynb\" target=\"_parent\"><img src=\"https://colab.research.google.com/assets/colab-badge.svg\" alt=\"Open In Colab\"/></a>"
      ]
    },
    {
      "cell_type": "code",
      "execution_count": 1,
      "metadata": {
        "colab": {
          "base_uri": "https://localhost:8080/"
        },
        "id": "9uSCX3Etabbo",
        "outputId": "ba7eea7f-a615-4071-d6f7-6a007c820f2c"
      },
      "outputs": [
        {
          "output_type": "stream",
          "name": "stdout",
          "text": [
            "Mounted at /content/drive\n"
          ]
        }
      ],
      "source": [
        "from google.colab import drive\n",
        "drive.mount('/content/drive')"
      ]
    },
    {
      "cell_type": "code",
      "execution_count": 2,
      "metadata": {
        "colab": {
          "base_uri": "https://localhost:8080/"
        },
        "id": "flC6CwXHrKL-",
        "outputId": "35947f91-a469-41b9-e0bd-0d52a2978365"
      },
      "outputs": [
        {
          "output_type": "stream",
          "name": "stderr",
          "text": [
            "[nltk_data] Downloading package stopwords to /root/nltk_data...\n",
            "[nltk_data]   Unzipping corpora/stopwords.zip.\n"
          ]
        },
        {
          "output_type": "execute_result",
          "data": {
            "text/plain": [
              "True"
            ]
          },
          "metadata": {},
          "execution_count": 2
        }
      ],
      "source": [
        "import nltk\n",
        "nltk.download('stopwords')"
      ]
    },
    {
      "cell_type": "code",
      "execution_count": 3,
      "metadata": {
        "id": "arY_Uk3DJnYy"
      },
      "outputs": [],
      "source": [
        "import pandas as pd\n",
        "from pandas import Series,DataFrame\n",
        "import numpy as np\n",
        "import time\n",
        "from datetime import date\n",
        "import re\n",
        "import gensim\n",
        "from nltk.tokenize import word_tokenize\n",
        "from nltk.corpus import stopwords\n",
        "from nltk.tokenize import RegexpTokenizer\n",
        "from nltk.stem.porter import PorterStemmer\n",
        "import pickle as pk\n",
        "from gensim.models import Word2Vec\n",
        "import logging\n",
        "logging.basicConfig(format='%(asctime)s: %(levelname)s: %(message)s')"
      ]
    },
    {
      "cell_type": "code",
      "execution_count": 4,
      "metadata": {
        "id": "xnFp9-bwJo_G"
      },
      "outputs": [],
      "source": [
        "def data2change(data):\n",
        "    change = pd.DataFrame(data).pct_change()\n",
        "    change = change.replace([np.inf, -np.inf], np.nan)\n",
        "    change = change.fillna(0.).values.tolist()\n",
        "    change = [c[0] for c in change]\n",
        "    return change"
      ]
    },
    {
      "cell_type": "code",
      "execution_count": 5,
      "metadata": {
        "id": "Qsi8a0b1jHOd"
      },
      "outputs": [],
      "source": [
        "def load_text_csv(filename = '/content/drive/MyDrive/金融/week11/Combined_News_DJIA.csv', date_split = date(2014,12,31)):\n",
        "  df = pd.read_csv(filename)\n",
        "\n",
        "  df['Combined']=df.iloc[:,2:27].apply(lambda row: ''.join(str(row.values)), axis=1)\n",
        "  date_split = pd.to_datetime(date_split)\n",
        "  train = df.loc[(pd.to_datetime(df[\"Date\"]) <= date_split),['Label','Combined']]\n",
        "  test = df.loc[(pd.to_datetime(df[\"Date\"]) > date_split),['Label','Combined']]\n",
        "\n",
        "  return train, test"
      ]
    },
    {
      "cell_type": "code",
      "execution_count": 6,
      "metadata": {
        "id": "gdjGy7WHjTlB"
      },
      "outputs": [],
      "source": [
        "train, test = load_text_csv()"
      ]
    },
    {
      "cell_type": "code",
      "execution_count": 7,
      "metadata": {
        "id": "Ycq_TK2lJqlU"
      },
      "outputs": [],
      "source": [
        "def load_ts_csv(filename = '/content/drive/MyDrive/金融/week11/DJIA_table.csv', date_split = date(2014,12,31)):\n",
        "  data_original = pd.read_csv(filename)[::-1]\n",
        "  data_original[\"Date\"] = pd.to_datetime(data_original[\"Date\"], format='%d-%m-%Y')\n",
        "  date_split = pd.to_datetime(date_split)\n",
        "\n",
        "  train2 = data_original.loc[(pd.to_datetime(data_original[\"Date\"]) <= date_split)]\n",
        "  test2 = data_original.loc[(pd.to_datetime(data_original[\"Date\"]) > date_split)]\n",
        "\n",
        "  open_train = train2.loc[:, 'Open']\n",
        "  open_test = test2.loc[:, 'Open']\n",
        "\n",
        "  high_train = train2.loc[:, 'High']\n",
        "  high_test = test2.loc[:, 'High']\n",
        "\n",
        "  low_train = train2.loc[:, 'Low']\n",
        "  low_test = test2.loc[:, 'Low']\n",
        "\n",
        "  close_train = train2.loc[:, 'Close']\n",
        "  close_test = test2.loc[:, 'Close']\n",
        "\n",
        "  volume_train = train2.loc[:, 'Volume']\n",
        "  volume_test = test2.loc[:, 'Volume']\n",
        "\n",
        "  open_train = data2change(open_train)\n",
        "  open_test = data2change(open_test)\n",
        "\n",
        "  high_train = data2change(high_train)\n",
        "  high_test = data2change(high_test)\n",
        "\n",
        "  low_train = data2change(low_train)\n",
        "  low_test = data2change(low_test)\n",
        "\n",
        "  close_test = data2change(close_test)\n",
        "  close_train = data2change(close_train)\n",
        "\n",
        "  volume_train = data2change(volume_train)\n",
        "  volume_test = data2change(volume_test)\n",
        "\n",
        "  train = np.column_stack((open_train, high_train, low_train, close_train, volume_train))\n",
        "  test = np.column_stack((open_test, high_test, low_test, close_test, volume_test))\n",
        "\n",
        "  print(train.shape)\n",
        "  print(test.shape)\n",
        "\n",
        "  return train, test\n"
      ]
    },
    {
      "cell_type": "code",
      "execution_count": 8,
      "metadata": {
        "colab": {
          "base_uri": "https://localhost:8080/"
        },
        "id": "tPe_71FKlpFM",
        "outputId": "e597b43d-4fec-437b-d153-beef39dc5a0c"
      },
      "outputs": [
        {
          "output_type": "stream",
          "name": "stdout",
          "text": [
            "(1611, 5)\n",
            "(252, 5)\n"
          ]
        }
      ],
      "source": [
        "data_chng_train, data_chng_test = load_ts_csv()"
      ]
    },
    {
      "cell_type": "code",
      "execution_count": 9,
      "metadata": {
        "id": "0gzH1M0GJwBz"
      },
      "outputs": [],
      "source": [
        "stop_words = set(stopwords.words('english'))\n",
        "def text_process(text):\n",
        "    if pd.isnull(text):\n",
        "        return \"\"\n",
        "    # tokenizing\n",
        "    tokenizer = RegexpTokenizer(r'\\w+')\n",
        "    text_processed = tokenizer.tokenize(text)\n",
        "\n",
        "    # 去除停用詞\n",
        "    text_processed = [word.lower() for word in text_processed if word.lower() not in stop_words]\n",
        "\n",
        "    # 詞幹處理\n",
        "    porter_stemmer = PorterStemmer()\n",
        "    text_processed = [porter_stemmer.stem(word) for word in text_processed]\n",
        "\n",
        "    # 移除 'b' 這樣的詞\n",
        "    text_processed = [word for word in text_processed if word != 'b']\n",
        "\n",
        "    return \" \".join(text_processed)\n"
      ]
    },
    {
      "cell_type": "code",
      "execution_count": 10,
      "metadata": {
        "id": "GlVlL_fBJ0_I"
      },
      "outputs": [],
      "source": [
        "def transform_text2sentences(train, test, save_train = '/content/drive/MyDrive/金融/week11/train_text.p', save_test = '/content/drive/MyDrive/金融/week11/test_text.p'):\n",
        "\n",
        "\ttrain_text = []\n",
        "\ttest_text = []\n",
        "\tfor each in train['Combined']:\n",
        "\t    train_text.append(text_process(each))\n",
        "\tfor each in test['Combined']:\n",
        "\t    test_text.append(text_process(each))\n",
        "\n",
        "\tif save_train != None: pk.dump(train_text, open(save_train, 'wb'))\n",
        "\tif save_test != None: pk.dump(test_text, open(save_test, 'wb'))\n",
        "\n",
        "\treturn train_text, test_text"
      ]
    },
    {
      "cell_type": "code",
      "execution_count": null,
      "metadata": {
        "id": "wiJjlPV2oCHJ"
      },
      "outputs": [],
      "source": [
        "transform_text2sentences(train,test)"
      ]
    },
    {
      "cell_type": "code",
      "execution_count": 12,
      "metadata": {
        "id": "DGa5u8TNJ4ip"
      },
      "outputs": [],
      "source": [
        "import numpy as np\n",
        "from gensim.models import Word2Vec\n",
        "\n",
        "def transform_text_into_vectors(train_text, test_text, embedding_size=100, model_path='word2vec10.model'):\n",
        "    data_for_w2v = []\n",
        "    for text in train_text + test_text:\n",
        "        words = text.split(' ')\n",
        "        data_for_w2v.append(words)\n",
        "\n",
        "    # 訓練 Word2Vec 模型\n",
        "    model = Word2Vec(data_for_w2v, vector_size=embedding_size, window=5, min_count=1, workers=4)\n",
        "    model.save(model_path)\n",
        "\n",
        "    # 計算文本的向量\n",
        "    def get_sentence_vector(sentence, model):\n",
        "        # 將每個單詞轉換為向量，並處理不在詞彙表中的單詞\n",
        "        sentence_vectors = []\n",
        "        for word in sentence.split(' '):\n",
        "            if word in model.wv:\n",
        "                sentence_vectors.append(model.wv[word])\n",
        "        if sentence_vectors:\n",
        "            return np.mean(sentence_vectors, axis=0)\n",
        "        else:\n",
        "            return np.zeros(model.vector_size)\n",
        "\n",
        "    train_text_vectors = [get_sentence_vector(sentence, model) for sentence in train_text]\n",
        "    test_text_vectors = [get_sentence_vector(sentence, model) for sentence in test_text]\n",
        "\n",
        "    return train_text_vectors, test_text_vectors, model\n"
      ]
    },
    {
      "cell_type": "code",
      "execution_count": 13,
      "metadata": {
        "id": "TKIMd6-Ir9dQ"
      },
      "outputs": [],
      "source": [
        "train_text = pk.load(open('/content/drive/MyDrive/金融/week11/train_text.p', 'rb'))[1:]\n",
        "test_text = pk.load(open('/content/drive/MyDrive/金融/week11/test_text.p', 'rb'))[1:]\n",
        "\n",
        "train_text_vectors, test_text_vectors, model = transform_text_into_vectors(train_text, test_text, 100)"
      ]
    },
    {
      "cell_type": "code",
      "execution_count": 14,
      "metadata": {
        "id": "C0qy73Lkd6nm"
      },
      "outputs": [],
      "source": [
        "def split_into_XY(data_chng_train, train_text_vectors, step, window, forecast):\n",
        "    X_train, X_train_text, Y_train, Y_train2 = [], [], [], []\n",
        "    for i in range(0, len(data_chng_train), step):\n",
        "        try:\n",
        "            if i + window + forecast >= len(data_chng_train):\n",
        "                continue\n",
        "\n",
        "            x_i = data_chng_train[i:i+window]\n",
        "            y_i = np.std(data_chng_train[i:i+window+forecast][3]) #close\n",
        "\n",
        "            text_average = train_text_vectors[i:i+window]\n",
        "            last_close = x_i[-1]\n",
        "\n",
        "            y_i2 = None\n",
        "            if data_chng_train[i+window+forecast][3] > 0.:\n",
        "                y_i2 = 1.\n",
        "            else:\n",
        "                y_i2 = 0.\n",
        "\n",
        "        except IndexError as e:\n",
        "            print('IndexError:', e)\n",
        "            continue\n",
        "\n",
        "        except Exception as e:\n",
        "            print('Error:', e)\n",
        "            continue\n",
        "\n",
        "        X_train.append(x_i)\n",
        "        X_train_text.append(text_average)\n",
        "        Y_train.append(y_i)\n",
        "        Y_train2.append(y_i2)\n",
        "\n",
        "    X_train, X_train_text, Y_train, Y_train2 = np.array(X_train), np.array(X_train_text), np.array(Y_train), np.array(Y_train2)\n",
        "    return X_train, X_train_text, Y_train, Y_train2\n"
      ]
    },
    {
      "cell_type": "code",
      "execution_count": 15,
      "metadata": {
        "id": "kYvKuAx8sBvY"
      },
      "outputs": [],
      "source": [
        "X_train, X_train_text, Y_train, Y_train2 = split_into_XY(data_chng_train, train_text_vectors, 1, 30, 1)\n",
        "X_test, X_test_text, Y_test, Y_test2 = split_into_XY(data_chng_test, test_text_vectors, 1, 30, 1)\n",
        "\n",
        "\n",
        "X_train = np.reshape(X_train, (X_train.shape[0], X_train.shape[1], 5))\n",
        "X_test = np.reshape(X_test, (X_test.shape[0], X_test.shape[1], 5))"
      ]
    },
    {
      "cell_type": "code",
      "execution_count": 16,
      "metadata": {
        "colab": {
          "base_uri": "https://localhost:8080/"
        },
        "id": "VzpELsWVDhgL",
        "outputId": "717a499c-62f7-412f-e6f6-bbb5b1ef707c"
      },
      "outputs": [
        {
          "output_type": "stream",
          "name": "stdout",
          "text": [
            "(1580, 30, 5)\n",
            "(1580, 30, 100)\n",
            "(1580,)\n",
            "(1580,)\n"
          ]
        }
      ],
      "source": [
        "print(X_train.shape)\n",
        "print(X_train_text.shape)\n",
        "print(Y_train.shape)\n",
        "print(Y_train2.shape)"
      ]
    },
    {
      "cell_type": "code",
      "execution_count": 17,
      "metadata": {
        "colab": {
          "base_uri": "https://localhost:8080/"
        },
        "id": "9ZG5AOwmIli0",
        "outputId": "41d230c6-4e26-4429-af0a-29413163111b"
      },
      "outputs": [
        {
          "output_type": "stream",
          "name": "stdout",
          "text": [
            "(221, 30, 5)\n",
            "(221, 30, 100)\n",
            "(221,)\n",
            "(221,)\n"
          ]
        }
      ],
      "source": [
        "print(X_test.shape)\n",
        "print(X_test_text.shape)\n",
        "print(Y_test.shape)\n",
        "print(Y_test.shape)"
      ]
    },
    {
      "cell_type": "code",
      "execution_count": 18,
      "metadata": {
        "colab": {
          "base_uri": "https://localhost:8080/"
        },
        "id": "1vP2_uSGIvZm",
        "outputId": "49f4b9b6-0a54-42db-8a35-1335befc3cf9"
      },
      "outputs": [
        {
          "output_type": "stream",
          "name": "stdout",
          "text": [
            "[0.02542046 0.05076908 0.13608661 ... 0.0138336  0.0963691  0.06242205]\n"
          ]
        }
      ],
      "source": [
        "print(Y_train)"
      ]
    },
    {
      "cell_type": "markdown",
      "metadata": {
        "id": "zSZ9iigZ8gWB"
      },
      "source": [
        "#訓練"
      ]
    },
    {
      "cell_type": "code",
      "execution_count": 23,
      "metadata": {
        "colab": {
          "base_uri": "https://localhost:8080/",
          "height": 657
        },
        "id": "WLsVX9hgtbR6",
        "outputId": "a5fba25b-aa0f-4da9-9f72-f880931e6b99"
      },
      "outputs": [
        {
          "output_type": "display_data",
          "data": {
            "text/plain": [
              "\u001b[1mModel: \"functional_1\"\u001b[0m\n"
            ],
            "text/html": [
              "<pre style=\"white-space:pre;overflow-x:auto;line-height:normal;font-family:Menlo,'DejaVu Sans Mono',consolas,'Courier New',monospace\"><span style=\"font-weight: bold\">Model: \"functional_1\"</span>\n",
              "</pre>\n"
            ]
          },
          "metadata": {}
        },
        {
          "output_type": "display_data",
          "data": {
            "text/plain": [
              "┏━━━━━━━━━━━━━━━━━━━━━━━━━━━┳━━━━━━━━━━━━━━━━━━━━━━━━┳━━━━━━━━━━━━━━━━┳━━━━━━━━━━━━━━━━━━━━━━━━┓\n",
              "┃\u001b[1m \u001b[0m\u001b[1mLayer (type)             \u001b[0m\u001b[1m \u001b[0m┃\u001b[1m \u001b[0m\u001b[1mOutput Shape          \u001b[0m\u001b[1m \u001b[0m┃\u001b[1m \u001b[0m\u001b[1m       Param #\u001b[0m\u001b[1m \u001b[0m┃\u001b[1m \u001b[0m\u001b[1mConnected to          \u001b[0m\u001b[1m \u001b[0m┃\n",
              "┡━━━━━━━━━━━━━━━━━━━━━━━━━━━╇━━━━━━━━━━━━━━━━━━━━━━━━╇━━━━━━━━━━━━━━━━╇━━━━━━━━━━━━━━━━━━━━━━━━┩\n",
              "│ ts_input (\u001b[38;5;33mInputLayer\u001b[0m)     │ (\u001b[38;5;45mNone\u001b[0m, \u001b[38;5;34m30\u001b[0m, \u001b[38;5;34m5\u001b[0m)          │              \u001b[38;5;34m0\u001b[0m │ -                      │\n",
              "├───────────────────────────┼────────────────────────┼────────────────┼────────────────────────┤\n",
              "│ text_input (\u001b[38;5;33mInputLayer\u001b[0m)   │ (\u001b[38;5;45mNone\u001b[0m, \u001b[38;5;34m30\u001b[0m, \u001b[38;5;34m100\u001b[0m)        │              \u001b[38;5;34m0\u001b[0m │ -                      │\n",
              "├───────────────────────────┼────────────────────────┼────────────────┼────────────────────────┤\n",
              "│ lstm_4 (\u001b[38;5;33mLSTM\u001b[0m)             │ (\u001b[38;5;45mNone\u001b[0m, \u001b[38;5;34m30\u001b[0m, \u001b[38;5;34m10\u001b[0m)         │            \u001b[38;5;34m640\u001b[0m │ ts_input[\u001b[38;5;34m0\u001b[0m][\u001b[38;5;34m0\u001b[0m]         │\n",
              "├───────────────────────────┼────────────────────────┼────────────────┼────────────────────────┤\n",
              "│ lstm_6 (\u001b[38;5;33mLSTM\u001b[0m)             │ (\u001b[38;5;45mNone\u001b[0m, \u001b[38;5;34m30\u001b[0m, \u001b[38;5;34m10\u001b[0m)         │          \u001b[38;5;34m4,440\u001b[0m │ text_input[\u001b[38;5;34m0\u001b[0m][\u001b[38;5;34m0\u001b[0m]       │\n",
              "├───────────────────────────┼────────────────────────┼────────────────┼────────────────────────┤\n",
              "│ lstm_5 (\u001b[38;5;33mLSTM\u001b[0m)             │ (\u001b[38;5;45mNone\u001b[0m, \u001b[38;5;34m10\u001b[0m)             │            \u001b[38;5;34m840\u001b[0m │ lstm_4[\u001b[38;5;34m0\u001b[0m][\u001b[38;5;34m0\u001b[0m]           │\n",
              "├───────────────────────────┼────────────────────────┼────────────────┼────────────────────────┤\n",
              "│ lstm_7 (\u001b[38;5;33mLSTM\u001b[0m)             │ (\u001b[38;5;45mNone\u001b[0m, \u001b[38;5;34m10\u001b[0m)             │            \u001b[38;5;34m840\u001b[0m │ lstm_6[\u001b[38;5;34m0\u001b[0m][\u001b[38;5;34m0\u001b[0m]           │\n",
              "├───────────────────────────┼────────────────────────┼────────────────┼────────────────────────┤\n",
              "│ flatten_2 (\u001b[38;5;33mFlatten\u001b[0m)       │ (\u001b[38;5;45mNone\u001b[0m, \u001b[38;5;34m10\u001b[0m)             │              \u001b[38;5;34m0\u001b[0m │ lstm_5[\u001b[38;5;34m0\u001b[0m][\u001b[38;5;34m0\u001b[0m]           │\n",
              "├───────────────────────────┼────────────────────────┼────────────────┼────────────────────────┤\n",
              "│ flatten_3 (\u001b[38;5;33mFlatten\u001b[0m)       │ (\u001b[38;5;45mNone\u001b[0m, \u001b[38;5;34m10\u001b[0m)             │              \u001b[38;5;34m0\u001b[0m │ lstm_7[\u001b[38;5;34m0\u001b[0m][\u001b[38;5;34m0\u001b[0m]           │\n",
              "├───────────────────────────┼────────────────────────┼────────────────┼────────────────────────┤\n",
              "│ concatenate_1             │ (\u001b[38;5;45mNone\u001b[0m, \u001b[38;5;34m20\u001b[0m)             │              \u001b[38;5;34m0\u001b[0m │ flatten_2[\u001b[38;5;34m0\u001b[0m][\u001b[38;5;34m0\u001b[0m],       │\n",
              "│ (\u001b[38;5;33mConcatenate\u001b[0m)             │                        │                │ flatten_3[\u001b[38;5;34m0\u001b[0m][\u001b[38;5;34m0\u001b[0m]        │\n",
              "├───────────────────────────┼────────────────────────┼────────────────┼────────────────────────┤\n",
              "│ dense_3 (\u001b[38;5;33mDense\u001b[0m)           │ (\u001b[38;5;45mNone\u001b[0m, \u001b[38;5;34m64\u001b[0m)             │          \u001b[38;5;34m1,344\u001b[0m │ concatenate_1[\u001b[38;5;34m0\u001b[0m][\u001b[38;5;34m0\u001b[0m]    │\n",
              "├───────────────────────────┼────────────────────────┼────────────────┼────────────────────────┤\n",
              "│ dense_2 (\u001b[38;5;33mDense\u001b[0m)           │ (\u001b[38;5;45mNone\u001b[0m, \u001b[38;5;34m64\u001b[0m)             │          \u001b[38;5;34m1,344\u001b[0m │ concatenate_1[\u001b[38;5;34m0\u001b[0m][\u001b[38;5;34m0\u001b[0m]    │\n",
              "├───────────────────────────┼────────────────────────┼────────────────┼────────────────────────┤\n",
              "│ leaky_re_lu_3 (\u001b[38;5;33mLeakyReLU\u001b[0m) │ (\u001b[38;5;45mNone\u001b[0m, \u001b[38;5;34m64\u001b[0m)             │              \u001b[38;5;34m0\u001b[0m │ dense_3[\u001b[38;5;34m0\u001b[0m][\u001b[38;5;34m0\u001b[0m]          │\n",
              "├───────────────────────────┼────────────────────────┼────────────────┼────────────────────────┤\n",
              "│ leaky_re_lu_2 (\u001b[38;5;33mLeakyReLU\u001b[0m) │ (\u001b[38;5;45mNone\u001b[0m, \u001b[38;5;34m64\u001b[0m)             │              \u001b[38;5;34m0\u001b[0m │ dense_2[\u001b[38;5;34m0\u001b[0m][\u001b[38;5;34m0\u001b[0m]          │\n",
              "├───────────────────────────┼────────────────────────┼────────────────┼────────────────────────┤\n",
              "│ dropout_1 (\u001b[38;5;33mDropout\u001b[0m)       │ (\u001b[38;5;45mNone\u001b[0m, \u001b[38;5;34m64\u001b[0m)             │              \u001b[38;5;34m0\u001b[0m │ leaky_re_lu_3[\u001b[38;5;34m0\u001b[0m][\u001b[38;5;34m0\u001b[0m]    │\n",
              "├───────────────────────────┼────────────────────────┼────────────────┼────────────────────────┤\n",
              "│ regression (\u001b[38;5;33mDense\u001b[0m)        │ (\u001b[38;5;45mNone\u001b[0m, \u001b[38;5;34m1\u001b[0m)              │             \u001b[38;5;34m65\u001b[0m │ leaky_re_lu_2[\u001b[38;5;34m0\u001b[0m][\u001b[38;5;34m0\u001b[0m]    │\n",
              "├───────────────────────────┼────────────────────────┼────────────────┼────────────────────────┤\n",
              "│ class (\u001b[38;5;33mDense\u001b[0m)             │ (\u001b[38;5;45mNone\u001b[0m, \u001b[38;5;34m1\u001b[0m)              │             \u001b[38;5;34m65\u001b[0m │ dropout_1[\u001b[38;5;34m0\u001b[0m][\u001b[38;5;34m0\u001b[0m]        │\n",
              "└───────────────────────────┴────────────────────────┴────────────────┴────────────────────────┘\n"
            ],
            "text/html": [
              "<pre style=\"white-space:pre;overflow-x:auto;line-height:normal;font-family:Menlo,'DejaVu Sans Mono',consolas,'Courier New',monospace\">┏━━━━━━━━━━━━━━━━━━━━━━━━━━━┳━━━━━━━━━━━━━━━━━━━━━━━━┳━━━━━━━━━━━━━━━━┳━━━━━━━━━━━━━━━━━━━━━━━━┓\n",
              "┃<span style=\"font-weight: bold\"> Layer (type)              </span>┃<span style=\"font-weight: bold\"> Output Shape           </span>┃<span style=\"font-weight: bold\">        Param # </span>┃<span style=\"font-weight: bold\"> Connected to           </span>┃\n",
              "┡━━━━━━━━━━━━━━━━━━━━━━━━━━━╇━━━━━━━━━━━━━━━━━━━━━━━━╇━━━━━━━━━━━━━━━━╇━━━━━━━━━━━━━━━━━━━━━━━━┩\n",
              "│ ts_input (<span style=\"color: #0087ff; text-decoration-color: #0087ff\">InputLayer</span>)     │ (<span style=\"color: #00d7ff; text-decoration-color: #00d7ff\">None</span>, <span style=\"color: #00af00; text-decoration-color: #00af00\">30</span>, <span style=\"color: #00af00; text-decoration-color: #00af00\">5</span>)          │              <span style=\"color: #00af00; text-decoration-color: #00af00\">0</span> │ -                      │\n",
              "├───────────────────────────┼────────────────────────┼────────────────┼────────────────────────┤\n",
              "│ text_input (<span style=\"color: #0087ff; text-decoration-color: #0087ff\">InputLayer</span>)   │ (<span style=\"color: #00d7ff; text-decoration-color: #00d7ff\">None</span>, <span style=\"color: #00af00; text-decoration-color: #00af00\">30</span>, <span style=\"color: #00af00; text-decoration-color: #00af00\">100</span>)        │              <span style=\"color: #00af00; text-decoration-color: #00af00\">0</span> │ -                      │\n",
              "├───────────────────────────┼────────────────────────┼────────────────┼────────────────────────┤\n",
              "│ lstm_4 (<span style=\"color: #0087ff; text-decoration-color: #0087ff\">LSTM</span>)             │ (<span style=\"color: #00d7ff; text-decoration-color: #00d7ff\">None</span>, <span style=\"color: #00af00; text-decoration-color: #00af00\">30</span>, <span style=\"color: #00af00; text-decoration-color: #00af00\">10</span>)         │            <span style=\"color: #00af00; text-decoration-color: #00af00\">640</span> │ ts_input[<span style=\"color: #00af00; text-decoration-color: #00af00\">0</span>][<span style=\"color: #00af00; text-decoration-color: #00af00\">0</span>]         │\n",
              "├───────────────────────────┼────────────────────────┼────────────────┼────────────────────────┤\n",
              "│ lstm_6 (<span style=\"color: #0087ff; text-decoration-color: #0087ff\">LSTM</span>)             │ (<span style=\"color: #00d7ff; text-decoration-color: #00d7ff\">None</span>, <span style=\"color: #00af00; text-decoration-color: #00af00\">30</span>, <span style=\"color: #00af00; text-decoration-color: #00af00\">10</span>)         │          <span style=\"color: #00af00; text-decoration-color: #00af00\">4,440</span> │ text_input[<span style=\"color: #00af00; text-decoration-color: #00af00\">0</span>][<span style=\"color: #00af00; text-decoration-color: #00af00\">0</span>]       │\n",
              "├───────────────────────────┼────────────────────────┼────────────────┼────────────────────────┤\n",
              "│ lstm_5 (<span style=\"color: #0087ff; text-decoration-color: #0087ff\">LSTM</span>)             │ (<span style=\"color: #00d7ff; text-decoration-color: #00d7ff\">None</span>, <span style=\"color: #00af00; text-decoration-color: #00af00\">10</span>)             │            <span style=\"color: #00af00; text-decoration-color: #00af00\">840</span> │ lstm_4[<span style=\"color: #00af00; text-decoration-color: #00af00\">0</span>][<span style=\"color: #00af00; text-decoration-color: #00af00\">0</span>]           │\n",
              "├───────────────────────────┼────────────────────────┼────────────────┼────────────────────────┤\n",
              "│ lstm_7 (<span style=\"color: #0087ff; text-decoration-color: #0087ff\">LSTM</span>)             │ (<span style=\"color: #00d7ff; text-decoration-color: #00d7ff\">None</span>, <span style=\"color: #00af00; text-decoration-color: #00af00\">10</span>)             │            <span style=\"color: #00af00; text-decoration-color: #00af00\">840</span> │ lstm_6[<span style=\"color: #00af00; text-decoration-color: #00af00\">0</span>][<span style=\"color: #00af00; text-decoration-color: #00af00\">0</span>]           │\n",
              "├───────────────────────────┼────────────────────────┼────────────────┼────────────────────────┤\n",
              "│ flatten_2 (<span style=\"color: #0087ff; text-decoration-color: #0087ff\">Flatten</span>)       │ (<span style=\"color: #00d7ff; text-decoration-color: #00d7ff\">None</span>, <span style=\"color: #00af00; text-decoration-color: #00af00\">10</span>)             │              <span style=\"color: #00af00; text-decoration-color: #00af00\">0</span> │ lstm_5[<span style=\"color: #00af00; text-decoration-color: #00af00\">0</span>][<span style=\"color: #00af00; text-decoration-color: #00af00\">0</span>]           │\n",
              "├───────────────────────────┼────────────────────────┼────────────────┼────────────────────────┤\n",
              "│ flatten_3 (<span style=\"color: #0087ff; text-decoration-color: #0087ff\">Flatten</span>)       │ (<span style=\"color: #00d7ff; text-decoration-color: #00d7ff\">None</span>, <span style=\"color: #00af00; text-decoration-color: #00af00\">10</span>)             │              <span style=\"color: #00af00; text-decoration-color: #00af00\">0</span> │ lstm_7[<span style=\"color: #00af00; text-decoration-color: #00af00\">0</span>][<span style=\"color: #00af00; text-decoration-color: #00af00\">0</span>]           │\n",
              "├───────────────────────────┼────────────────────────┼────────────────┼────────────────────────┤\n",
              "│ concatenate_1             │ (<span style=\"color: #00d7ff; text-decoration-color: #00d7ff\">None</span>, <span style=\"color: #00af00; text-decoration-color: #00af00\">20</span>)             │              <span style=\"color: #00af00; text-decoration-color: #00af00\">0</span> │ flatten_2[<span style=\"color: #00af00; text-decoration-color: #00af00\">0</span>][<span style=\"color: #00af00; text-decoration-color: #00af00\">0</span>],       │\n",
              "│ (<span style=\"color: #0087ff; text-decoration-color: #0087ff\">Concatenate</span>)             │                        │                │ flatten_3[<span style=\"color: #00af00; text-decoration-color: #00af00\">0</span>][<span style=\"color: #00af00; text-decoration-color: #00af00\">0</span>]        │\n",
              "├───────────────────────────┼────────────────────────┼────────────────┼────────────────────────┤\n",
              "│ dense_3 (<span style=\"color: #0087ff; text-decoration-color: #0087ff\">Dense</span>)           │ (<span style=\"color: #00d7ff; text-decoration-color: #00d7ff\">None</span>, <span style=\"color: #00af00; text-decoration-color: #00af00\">64</span>)             │          <span style=\"color: #00af00; text-decoration-color: #00af00\">1,344</span> │ concatenate_1[<span style=\"color: #00af00; text-decoration-color: #00af00\">0</span>][<span style=\"color: #00af00; text-decoration-color: #00af00\">0</span>]    │\n",
              "├───────────────────────────┼────────────────────────┼────────────────┼────────────────────────┤\n",
              "│ dense_2 (<span style=\"color: #0087ff; text-decoration-color: #0087ff\">Dense</span>)           │ (<span style=\"color: #00d7ff; text-decoration-color: #00d7ff\">None</span>, <span style=\"color: #00af00; text-decoration-color: #00af00\">64</span>)             │          <span style=\"color: #00af00; text-decoration-color: #00af00\">1,344</span> │ concatenate_1[<span style=\"color: #00af00; text-decoration-color: #00af00\">0</span>][<span style=\"color: #00af00; text-decoration-color: #00af00\">0</span>]    │\n",
              "├───────────────────────────┼────────────────────────┼────────────────┼────────────────────────┤\n",
              "│ leaky_re_lu_3 (<span style=\"color: #0087ff; text-decoration-color: #0087ff\">LeakyReLU</span>) │ (<span style=\"color: #00d7ff; text-decoration-color: #00d7ff\">None</span>, <span style=\"color: #00af00; text-decoration-color: #00af00\">64</span>)             │              <span style=\"color: #00af00; text-decoration-color: #00af00\">0</span> │ dense_3[<span style=\"color: #00af00; text-decoration-color: #00af00\">0</span>][<span style=\"color: #00af00; text-decoration-color: #00af00\">0</span>]          │\n",
              "├───────────────────────────┼────────────────────────┼────────────────┼────────────────────────┤\n",
              "│ leaky_re_lu_2 (<span style=\"color: #0087ff; text-decoration-color: #0087ff\">LeakyReLU</span>) │ (<span style=\"color: #00d7ff; text-decoration-color: #00d7ff\">None</span>, <span style=\"color: #00af00; text-decoration-color: #00af00\">64</span>)             │              <span style=\"color: #00af00; text-decoration-color: #00af00\">0</span> │ dense_2[<span style=\"color: #00af00; text-decoration-color: #00af00\">0</span>][<span style=\"color: #00af00; text-decoration-color: #00af00\">0</span>]          │\n",
              "├───────────────────────────┼────────────────────────┼────────────────┼────────────────────────┤\n",
              "│ dropout_1 (<span style=\"color: #0087ff; text-decoration-color: #0087ff\">Dropout</span>)       │ (<span style=\"color: #00d7ff; text-decoration-color: #00d7ff\">None</span>, <span style=\"color: #00af00; text-decoration-color: #00af00\">64</span>)             │              <span style=\"color: #00af00; text-decoration-color: #00af00\">0</span> │ leaky_re_lu_3[<span style=\"color: #00af00; text-decoration-color: #00af00\">0</span>][<span style=\"color: #00af00; text-decoration-color: #00af00\">0</span>]    │\n",
              "├───────────────────────────┼────────────────────────┼────────────────┼────────────────────────┤\n",
              "│ regression (<span style=\"color: #0087ff; text-decoration-color: #0087ff\">Dense</span>)        │ (<span style=\"color: #00d7ff; text-decoration-color: #00d7ff\">None</span>, <span style=\"color: #00af00; text-decoration-color: #00af00\">1</span>)              │             <span style=\"color: #00af00; text-decoration-color: #00af00\">65</span> │ leaky_re_lu_2[<span style=\"color: #00af00; text-decoration-color: #00af00\">0</span>][<span style=\"color: #00af00; text-decoration-color: #00af00\">0</span>]    │\n",
              "├───────────────────────────┼────────────────────────┼────────────────┼────────────────────────┤\n",
              "│ class (<span style=\"color: #0087ff; text-decoration-color: #0087ff\">Dense</span>)             │ (<span style=\"color: #00d7ff; text-decoration-color: #00d7ff\">None</span>, <span style=\"color: #00af00; text-decoration-color: #00af00\">1</span>)              │             <span style=\"color: #00af00; text-decoration-color: #00af00\">65</span> │ dropout_1[<span style=\"color: #00af00; text-decoration-color: #00af00\">0</span>][<span style=\"color: #00af00; text-decoration-color: #00af00\">0</span>]        │\n",
              "└───────────────────────────┴────────────────────────┴────────────────┴────────────────────────┘\n",
              "</pre>\n"
            ]
          },
          "metadata": {}
        },
        {
          "output_type": "display_data",
          "data": {
            "text/plain": [
              "\u001b[1m Total params: \u001b[0m\u001b[38;5;34m9,578\u001b[0m (37.41 KB)\n"
            ],
            "text/html": [
              "<pre style=\"white-space:pre;overflow-x:auto;line-height:normal;font-family:Menlo,'DejaVu Sans Mono',consolas,'Courier New',monospace\"><span style=\"font-weight: bold\"> Total params: </span><span style=\"color: #00af00; text-decoration-color: #00af00\">9,578</span> (37.41 KB)\n",
              "</pre>\n"
            ]
          },
          "metadata": {}
        },
        {
          "output_type": "display_data",
          "data": {
            "text/plain": [
              "\u001b[1m Trainable params: \u001b[0m\u001b[38;5;34m9,578\u001b[0m (37.41 KB)\n"
            ],
            "text/html": [
              "<pre style=\"white-space:pre;overflow-x:auto;line-height:normal;font-family:Menlo,'DejaVu Sans Mono',consolas,'Courier New',monospace\"><span style=\"font-weight: bold\"> Trainable params: </span><span style=\"color: #00af00; text-decoration-color: #00af00\">9,578</span> (37.41 KB)\n",
              "</pre>\n"
            ]
          },
          "metadata": {}
        },
        {
          "output_type": "display_data",
          "data": {
            "text/plain": [
              "\u001b[1m Non-trainable params: \u001b[0m\u001b[38;5;34m0\u001b[0m (0.00 B)\n"
            ],
            "text/html": [
              "<pre style=\"white-space:pre;overflow-x:auto;line-height:normal;font-family:Menlo,'DejaVu Sans Mono',consolas,'Courier New',monospace\"><span style=\"font-weight: bold\"> Non-trainable params: </span><span style=\"color: #00af00; text-decoration-color: #00af00\">0</span> (0.00 B)\n",
              "</pre>\n"
            ]
          },
          "metadata": {}
        }
      ],
      "source": [
        "from tensorflow.keras.models import Model\n",
        "from tensorflow.keras.layers import Input, LSTM, Dense, LeakyReLU, Dropout, Flatten, concatenate\n",
        "from tensorflow.keras.optimizers import Adam\n",
        "\n",
        "main_input = Input(shape=(30, 5), name='ts_input')\n",
        "text_input = Input(shape=(30, 100), name='text_input')\n",
        "\n",
        "lstm1 = LSTM(10, return_sequences=True, recurrent_dropout=0.25, dropout=0.25, bias_initializer='ones')(main_input)\n",
        "lstm1 = LSTM(10, return_sequences=False, recurrent_dropout=0.25, dropout=0.25, bias_initializer='ones')(lstm1)\n",
        "lstm1 = Flatten()(lstm1)\n",
        "\n",
        "lstm2 = LSTM(10, return_sequences=True, recurrent_dropout=0.25, dropout=0.25, bias_initializer='ones')(text_input)\n",
        "lstm2 = LSTM(10, return_sequences=False, recurrent_dropout=0.25, dropout=0.25, bias_initializer='ones')(lstm2)\n",
        "lstm2 = Flatten()(lstm2)\n",
        "\n",
        "lstms = concatenate([lstm1, lstm2])\n",
        "\n",
        "x1 = Dense(64)(lstms)\n",
        "x1 = LeakyReLU()(x1)\n",
        "x1 = Dense(1, activation='linear', name='regression')(x1)\n",
        "\n",
        "x2 = Dense(64)(lstms)\n",
        "x2 = LeakyReLU()(x2)\n",
        "x2 = Dropout(0.9)(x2)\n",
        "x2 = Dense(1, activation='sigmoid', name='class')(x2)\n",
        "\n",
        "final_model = Model(inputs=[main_input, text_input], outputs=[x1, x2])\n",
        "\n",
        "\n",
        "final_model.compile(optimizer=Adam(), loss={'regression': 'mse', 'class': 'binary_crossentropy'}, metrics={'regression': 'mae', 'class': 'accuracy'})\n",
        "\n",
        "final_model.summary()"
      ]
    },
    {
      "cell_type": "code",
      "execution_count": 24,
      "metadata": {
        "id": "4lIg8_D2tulP"
      },
      "outputs": [],
      "source": [
        "from tensorflow.keras.optimizers import Nadam\n",
        "from tensorflow.keras.callbacks import ReduceLROnPlateau, ModelCheckpoint\n",
        "from tensorflow.keras.callbacks import ModelCheckpoint\n",
        "\n",
        "checkpointer = ModelCheckpoint(monitor='val_loss',\n",
        "                               filepath=\"/content/drive/MyDrive/金融/week11/model.keras\",\n",
        "                               verbose=1,\n",
        "                               save_best_only=True)\n",
        "\n",
        "opt = Nadam(learning_rate=0.0002, clipnorm=0.5)\n",
        "\n",
        "reduce_lr = ReduceLROnPlateau(monitor='val_loss', factor=0.9, patience=50, min_lr=0.000001, verbose=1)\n",
        "\n",
        "final_model.compile(optimizer=opt,\n",
        "                    loss={'regression': 'mse', 'class': 'binary_crossentropy'},\n",
        "                    loss_weights={'regression': 1., 'class': 0.2})\n"
      ]
    },
    {
      "cell_type": "code",
      "execution_count": 25,
      "metadata": {
        "colab": {
          "base_uri": "https://localhost:8080/"
        },
        "id": "OkN9khteuOoY",
        "outputId": "a047588a-b1c9-4047-f2b4-5ca8e11ac3c0"
      },
      "outputs": [
        {
          "output_type": "stream",
          "name": "stdout",
          "text": [
            "Epoch 1/100\n",
            "\u001b[1m7/7\u001b[0m \u001b[32m━━━━━━━━━━━━━━━━━━━━\u001b[0m\u001b[37m\u001b[0m \u001b[1m0s\u001b[0m 90ms/step - class_loss: 0.3353 - loss: 1.9588 - regression_loss: 1.6114\n",
            "Epoch 1: val_loss improved from inf to 0.69134, saving model to /content/drive/MyDrive/金融/week11/model.keras\n",
            "\u001b[1m7/7\u001b[0m \u001b[32m━━━━━━━━━━━━━━━━━━━━\u001b[0m\u001b[37m\u001b[0m \u001b[1m13s\u001b[0m 336ms/step - class_loss: 0.3344 - loss: 1.9240 - regression_loss: 1.5683 - val_class_loss: 0.2508 - val_loss: 0.6913 - val_regression_loss: 0.4406 - learning_rate: 2.0000e-04\n",
            "Epoch 2/100\n",
            "\u001b[1m7/7\u001b[0m \u001b[32m━━━━━━━━━━━━━━━━━━━━\u001b[0m\u001b[37m\u001b[0m \u001b[1m0s\u001b[0m 93ms/step - class_loss: 0.3268 - loss: 0.8622 - regression_loss: 0.5306\n",
            "Epoch 2: val_loss improved from 0.69134 to 0.52726, saving model to /content/drive/MyDrive/金融/week11/model.keras\n",
            "\u001b[1m7/7\u001b[0m \u001b[32m━━━━━━━━━━━━━━━━━━━━\u001b[0m\u001b[37m\u001b[0m \u001b[1m1s\u001b[0m 128ms/step - class_loss: 0.3251 - loss: 0.8526 - regression_loss: 0.5192 - val_class_loss: 0.2500 - val_loss: 0.5273 - val_regression_loss: 0.2772 - learning_rate: 2.0000e-04\n",
            "Epoch 3/100\n",
            "\u001b[1m6/7\u001b[0m \u001b[32m━━━━━━━━━━━━━━━━━\u001b[0m\u001b[37m━━━\u001b[0m \u001b[1m0s\u001b[0m 89ms/step - class_loss: 0.3198 - loss: 0.5826 - regression_loss: 0.2628\n",
            "Epoch 3: val_loss improved from 0.52726 to 0.43741, saving model to /content/drive/MyDrive/金融/week11/model.keras\n",
            "\u001b[1m7/7\u001b[0m \u001b[32m━━━━━━━━━━━━━━━━━━━━\u001b[0m\u001b[37m\u001b[0m \u001b[1m1s\u001b[0m 100ms/step - class_loss: 0.3165 - loss: 0.5755 - regression_loss: 0.2559 - val_class_loss: 0.2496 - val_loss: 0.4374 - val_regression_loss: 0.1878 - learning_rate: 2.0000e-04\n",
            "Epoch 4/100\n",
            "\u001b[1m6/7\u001b[0m \u001b[32m━━━━━━━━━━━━━━━━━\u001b[0m\u001b[37m━━━\u001b[0m \u001b[1m0s\u001b[0m 56ms/step - class_loss: 0.3130 - loss: 0.4840 - regression_loss: 0.1710\n",
            "Epoch 4: val_loss improved from 0.43741 to 0.37954, saving model to /content/drive/MyDrive/金融/week11/model.keras\n",
            "\u001b[1m7/7\u001b[0m \u001b[32m━━━━━━━━━━━━━━━━━━━━\u001b[0m\u001b[37m\u001b[0m \u001b[1m1s\u001b[0m 74ms/step - class_loss: 0.3134 - loss: 0.4817 - regression_loss: 0.1675 - val_class_loss: 0.2494 - val_loss: 0.3795 - val_regression_loss: 0.1302 - learning_rate: 2.0000e-04\n",
            "Epoch 5/100\n",
            "\u001b[1m6/7\u001b[0m \u001b[32m━━━━━━━━━━━━━━━━━\u001b[0m\u001b[37m━━━\u001b[0m \u001b[1m0s\u001b[0m 63ms/step - class_loss: 0.3118 - loss: 0.4335 - regression_loss: 0.1217\n",
            "Epoch 5: val_loss improved from 0.37954 to 0.34023, saving model to /content/drive/MyDrive/金融/week11/model.keras\n",
            "\u001b[1m7/7\u001b[0m \u001b[32m━━━━━━━━━━━━━━━━━━━━\u001b[0m\u001b[37m\u001b[0m \u001b[1m1s\u001b[0m 79ms/step - class_loss: 0.3146 - loss: 0.4326 - regression_loss: 0.1190 - val_class_loss: 0.2494 - val_loss: 0.3402 - val_regression_loss: 0.0908 - learning_rate: 2.0000e-04\n",
            "Epoch 6/100\n",
            "\u001b[1m7/7\u001b[0m \u001b[32m━━━━━━━━━━━━━━━━━━━━\u001b[0m\u001b[37m\u001b[0m \u001b[1m0s\u001b[0m 96ms/step - class_loss: 0.3040 - loss: 0.3920 - regression_loss: 0.0874\n",
            "Epoch 6: val_loss improved from 0.34023 to 0.31545, saving model to /content/drive/MyDrive/金融/week11/model.keras\n",
            "\u001b[1m7/7\u001b[0m \u001b[32m━━━━━━━━━━━━━━━━━━━━\u001b[0m\u001b[37m\u001b[0m \u001b[1m1s\u001b[0m 130ms/step - class_loss: 0.3042 - loss: 0.3922 - regression_loss: 0.0869 - val_class_loss: 0.2497 - val_loss: 0.3155 - val_regression_loss: 0.0657 - learning_rate: 2.0000e-04\n",
            "Epoch 7/100\n",
            "\u001b[1m7/7\u001b[0m \u001b[32m━━━━━━━━━━━━━━━━━━━━\u001b[0m\u001b[37m\u001b[0m \u001b[1m0s\u001b[0m 91ms/step - class_loss: 0.3145 - loss: 0.3891 - regression_loss: 0.0748\n",
            "Epoch 7: val_loss improved from 0.31545 to 0.30801, saving model to /content/drive/MyDrive/金融/week11/model.keras\n",
            "\u001b[1m7/7\u001b[0m \u001b[32m━━━━━━━━━━━━━━━━━━━━\u001b[0m\u001b[37m\u001b[0m \u001b[1m1s\u001b[0m 124ms/step - class_loss: 0.3142 - loss: 0.3888 - regression_loss: 0.0750 - val_class_loss: 0.2501 - val_loss: 0.3080 - val_regression_loss: 0.0579 - learning_rate: 2.0000e-04\n",
            "Epoch 8/100\n",
            "\u001b[1m7/7\u001b[0m \u001b[32m━━━━━━━━━━━━━━━━━━━━\u001b[0m\u001b[37m\u001b[0m \u001b[1m0s\u001b[0m 85ms/step - class_loss: 0.3046 - loss: 0.3789 - regression_loss: 0.0746\n",
            "Epoch 8: val_loss did not improve from 0.30801\n",
            "\u001b[1m7/7\u001b[0m \u001b[32m━━━━━━━━━━━━━━━━━━━━\u001b[0m\u001b[37m\u001b[0m \u001b[1m1s\u001b[0m 103ms/step - class_loss: 0.3044 - loss: 0.3784 - regression_loss: 0.0745 - val_class_loss: 0.2506 - val_loss: 0.3089 - val_regression_loss: 0.0583 - learning_rate: 2.0000e-04\n",
            "Epoch 9/100\n",
            "\u001b[1m7/7\u001b[0m \u001b[32m━━━━━━━━━━━━━━━━━━━━\u001b[0m\u001b[37m\u001b[0m \u001b[1m0s\u001b[0m 91ms/step - class_loss: 0.3009 - loss: 0.3784 - regression_loss: 0.0767\n",
            "Epoch 9: val_loss did not improve from 0.30801\n",
            "\u001b[1m7/7\u001b[0m \u001b[32m━━━━━━━━━━━━━━━━━━━━\u001b[0m\u001b[37m\u001b[0m \u001b[1m1s\u001b[0m 105ms/step - class_loss: 0.3004 - loss: 0.3777 - regression_loss: 0.0759 - val_class_loss: 0.2513 - val_loss: 0.3112 - val_regression_loss: 0.0599 - learning_rate: 2.0000e-04\n",
            "Epoch 10/100\n",
            "\u001b[1m7/7\u001b[0m \u001b[32m━━━━━━━━━━━━━━━━━━━━\u001b[0m\u001b[37m\u001b[0m \u001b[1m0s\u001b[0m 92ms/step - class_loss: 0.3024 - loss: 0.3742 - regression_loss: 0.0713\n",
            "Epoch 10: val_loss did not improve from 0.30801\n",
            "\u001b[1m7/7\u001b[0m \u001b[32m━━━━━━━━━━━━━━━━━━━━\u001b[0m\u001b[37m\u001b[0m \u001b[1m1s\u001b[0m 108ms/step - class_loss: 0.3018 - loss: 0.3740 - regression_loss: 0.0713 - val_class_loss: 0.2519 - val_loss: 0.3136 - val_regression_loss: 0.0617 - learning_rate: 2.0000e-04\n",
            "Epoch 11/100\n",
            "\u001b[1m6/7\u001b[0m \u001b[32m━━━━━━━━━━━━━━━━━\u001b[0m\u001b[37m━━━\u001b[0m \u001b[1m0s\u001b[0m 61ms/step - class_loss: 0.3012 - loss: 0.3711 - regression_loss: 0.0700\n",
            "Epoch 11: val_loss did not improve from 0.30801\n",
            "\u001b[1m7/7\u001b[0m \u001b[32m━━━━━━━━━━━━━━━━━━━━\u001b[0m\u001b[37m\u001b[0m \u001b[1m1s\u001b[0m 66ms/step - class_loss: 0.3020 - loss: 0.3714 - regression_loss: 0.0698 - val_class_loss: 0.2523 - val_loss: 0.3129 - val_regression_loss: 0.0606 - learning_rate: 2.0000e-04\n",
            "Epoch 12/100\n",
            "\u001b[1m7/7\u001b[0m \u001b[32m━━━━━━━━━━━━━━━━━━━━\u001b[0m\u001b[37m\u001b[0m \u001b[1m0s\u001b[0m 60ms/step - class_loss: 0.2905 - loss: 0.3601 - regression_loss: 0.0695\n",
            "Epoch 12: val_loss did not improve from 0.30801\n",
            "\u001b[1m7/7\u001b[0m \u001b[32m━━━━━━━━━━━━━━━━━━━━\u001b[0m\u001b[37m\u001b[0m \u001b[1m0s\u001b[0m 69ms/step - class_loss: 0.2906 - loss: 0.3604 - regression_loss: 0.0696 - val_class_loss: 0.2524 - val_loss: 0.3120 - val_regression_loss: 0.0595 - learning_rate: 2.0000e-04\n",
            "Epoch 13/100\n",
            "\u001b[1m6/7\u001b[0m \u001b[32m━━━━━━━━━━━━━━━━━\u001b[0m\u001b[37m━━━\u001b[0m \u001b[1m0s\u001b[0m 58ms/step - class_loss: 0.2806 - loss: 0.3521 - regression_loss: 0.0714\n",
            "Epoch 13: val_loss did not improve from 0.30801\n",
            "\u001b[1m7/7\u001b[0m \u001b[32m━━━━━━━━━━━━━━━━━━━━\u001b[0m\u001b[37m\u001b[0m \u001b[1m1s\u001b[0m 63ms/step - class_loss: 0.2825 - loss: 0.3534 - regression_loss: 0.0711 - val_class_loss: 0.2527 - val_loss: 0.3118 - val_regression_loss: 0.0591 - learning_rate: 2.0000e-04\n",
            "Epoch 14/100\n",
            "\u001b[1m6/7\u001b[0m \u001b[32m━━━━━━━━━━━━━━━━━\u001b[0m\u001b[37m━━━\u001b[0m \u001b[1m0s\u001b[0m 57ms/step - class_loss: 0.2944 - loss: 0.3701 - regression_loss: 0.0757\n",
            "Epoch 14: val_loss did not improve from 0.30801\n",
            "\u001b[1m7/7\u001b[0m \u001b[32m━━━━━━━━━━━━━━━━━━━━\u001b[0m\u001b[37m\u001b[0m \u001b[1m1s\u001b[0m 62ms/step - class_loss: 0.2933 - loss: 0.3680 - regression_loss: 0.0747 - val_class_loss: 0.2530 - val_loss: 0.3120 - val_regression_loss: 0.0590 - learning_rate: 2.0000e-04\n",
            "Epoch 15/100\n",
            "\u001b[1m6/7\u001b[0m \u001b[32m━━━━━━━━━━━━━━━━━\u001b[0m\u001b[37m━━━\u001b[0m \u001b[1m0s\u001b[0m 56ms/step - class_loss: 0.2980 - loss: 0.3677 - regression_loss: 0.0696\n",
            "Epoch 15: val_loss did not improve from 0.30801\n",
            "\u001b[1m7/7\u001b[0m \u001b[32m━━━━━━━━━━━━━━━━━━━━\u001b[0m\u001b[37m\u001b[0m \u001b[1m1s\u001b[0m 66ms/step - class_loss: 0.2966 - loss: 0.3662 - regression_loss: 0.0694 - val_class_loss: 0.2531 - val_loss: 0.3124 - val_regression_loss: 0.0593 - learning_rate: 2.0000e-04\n",
            "Epoch 16/100\n",
            "\u001b[1m6/7\u001b[0m \u001b[32m━━━━━━━━━━━━━━━━━\u001b[0m\u001b[37m━━━\u001b[0m \u001b[1m0s\u001b[0m 54ms/step - class_loss: 0.2863 - loss: 0.3534 - regression_loss: 0.0671\n",
            "Epoch 16: val_loss did not improve from 0.30801\n",
            "\u001b[1m7/7\u001b[0m \u001b[32m━━━━━━━━━━━━━━━━━━━━\u001b[0m\u001b[37m\u001b[0m \u001b[1m0s\u001b[0m 62ms/step - class_loss: 0.2879 - loss: 0.3558 - regression_loss: 0.0674 - val_class_loss: 0.2533 - val_loss: 0.3117 - val_regression_loss: 0.0584 - learning_rate: 2.0000e-04\n",
            "Epoch 17/100\n",
            "\u001b[1m6/7\u001b[0m \u001b[32m━━━━━━━━━━━━━━━━━\u001b[0m\u001b[37m━━━\u001b[0m \u001b[1m0s\u001b[0m 55ms/step - class_loss: 0.2970 - loss: 0.3696 - regression_loss: 0.0726\n",
            "Epoch 17: val_loss did not improve from 0.30801\n",
            "\u001b[1m7/7\u001b[0m \u001b[32m━━━━━━━━━━━━━━━━━━━━\u001b[0m\u001b[37m\u001b[0m \u001b[1m0s\u001b[0m 61ms/step - class_loss: 0.2956 - loss: 0.3684 - regression_loss: 0.0719 - val_class_loss: 0.2534 - val_loss: 0.3122 - val_regression_loss: 0.0587 - learning_rate: 2.0000e-04\n",
            "Epoch 18/100\n",
            "\u001b[1m6/7\u001b[0m \u001b[32m━━━━━━━━━━━━━━━━━\u001b[0m\u001b[37m━━━\u001b[0m \u001b[1m0s\u001b[0m 58ms/step - class_loss: 0.2905 - loss: 0.3605 - regression_loss: 0.0700\n",
            "Epoch 18: val_loss did not improve from 0.30801\n",
            "\u001b[1m7/7\u001b[0m \u001b[32m━━━━━━━━━━━━━━━━━━━━\u001b[0m\u001b[37m\u001b[0m \u001b[1m1s\u001b[0m 62ms/step - class_loss: 0.2912 - loss: 0.3604 - regression_loss: 0.0696 - val_class_loss: 0.2536 - val_loss: 0.3128 - val_regression_loss: 0.0593 - learning_rate: 2.0000e-04\n",
            "Epoch 19/100\n",
            "\u001b[1m7/7\u001b[0m \u001b[32m━━━━━━━━━━━━━━━━━━━━\u001b[0m\u001b[37m\u001b[0m \u001b[1m0s\u001b[0m 59ms/step - class_loss: 0.2834 - loss: 0.3515 - regression_loss: 0.0680\n",
            "Epoch 19: val_loss did not improve from 0.30801\n",
            "\u001b[1m7/7\u001b[0m \u001b[32m━━━━━━━━━━━━━━━━━━━━\u001b[0m\u001b[37m\u001b[0m \u001b[1m0s\u001b[0m 70ms/step - class_loss: 0.2832 - loss: 0.3514 - regression_loss: 0.0683 - val_class_loss: 0.2537 - val_loss: 0.3124 - val_regression_loss: 0.0587 - learning_rate: 2.0000e-04\n",
            "Epoch 20/100\n",
            "\u001b[1m6/7\u001b[0m \u001b[32m━━━━━━━━━━━━━━━━━\u001b[0m\u001b[37m━━━\u001b[0m \u001b[1m0s\u001b[0m 55ms/step - class_loss: 0.2776 - loss: 0.3432 - regression_loss: 0.0656\n",
            "Epoch 20: val_loss did not improve from 0.30801\n",
            "\u001b[1m7/7\u001b[0m \u001b[32m━━━━━━━━━━━━━━━━━━━━\u001b[0m\u001b[37m\u001b[0m \u001b[1m0s\u001b[0m 61ms/step - class_loss: 0.2785 - loss: 0.3445 - regression_loss: 0.0660 - val_class_loss: 0.2539 - val_loss: 0.3124 - val_regression_loss: 0.0585 - learning_rate: 2.0000e-04\n",
            "Epoch 21/100\n",
            "\u001b[1m6/7\u001b[0m \u001b[32m━━━━━━━━━━━━━━━━━\u001b[0m\u001b[37m━━━\u001b[0m \u001b[1m0s\u001b[0m 60ms/step - class_loss: 0.2785 - loss: 0.3439 - regression_loss: 0.0654\n",
            "Epoch 21: val_loss did not improve from 0.30801\n",
            "\u001b[1m7/7\u001b[0m \u001b[32m━━━━━━━━━━━━━━━━━━━━\u001b[0m\u001b[37m\u001b[0m \u001b[1m1s\u001b[0m 64ms/step - class_loss: 0.2791 - loss: 0.3456 - regression_loss: 0.0662 - val_class_loss: 0.2538 - val_loss: 0.3121 - val_regression_loss: 0.0583 - learning_rate: 2.0000e-04\n",
            "Epoch 22/100\n",
            "\u001b[1m6/7\u001b[0m \u001b[32m━━━━━━━━━━━━━━━━━\u001b[0m\u001b[37m━━━\u001b[0m \u001b[1m0s\u001b[0m 62ms/step - class_loss: 0.2756 - loss: 0.3441 - regression_loss: 0.0685\n",
            "Epoch 22: val_loss did not improve from 0.30801\n",
            "\u001b[1m7/7\u001b[0m \u001b[32m━━━━━━━━━━━━━━━━━━━━\u001b[0m\u001b[37m\u001b[0m \u001b[1m1s\u001b[0m 66ms/step - class_loss: 0.2766 - loss: 0.3445 - regression_loss: 0.0683 - val_class_loss: 0.2536 - val_loss: 0.3116 - val_regression_loss: 0.0580 - learning_rate: 2.0000e-04\n",
            "Epoch 23/100\n",
            "\u001b[1m6/7\u001b[0m \u001b[32m━━━━━━━━━━━━━━━━━\u001b[0m\u001b[37m━━━\u001b[0m \u001b[1m0s\u001b[0m 54ms/step - class_loss: 0.2956 - loss: 0.3643 - regression_loss: 0.0687\n",
            "Epoch 23: val_loss did not improve from 0.30801\n",
            "\u001b[1m7/7\u001b[0m \u001b[32m━━━━━━━━━━━━━━━━━━━━\u001b[0m\u001b[37m\u001b[0m \u001b[1m1s\u001b[0m 59ms/step - class_loss: 0.2939 - loss: 0.3624 - regression_loss: 0.0687 - val_class_loss: 0.2536 - val_loss: 0.3127 - val_regression_loss: 0.0590 - learning_rate: 2.0000e-04\n",
            "Epoch 24/100\n",
            "\u001b[1m7/7\u001b[0m \u001b[32m━━━━━━━━━━━━━━━━━━━━\u001b[0m\u001b[37m\u001b[0m \u001b[1m0s\u001b[0m 56ms/step - class_loss: 0.2769 - loss: 0.3454 - regression_loss: 0.0678\n",
            "Epoch 24: val_loss did not improve from 0.30801\n",
            "\u001b[1m7/7\u001b[0m \u001b[32m━━━━━━━━━━━━━━━━━━━━\u001b[0m\u001b[37m\u001b[0m \u001b[1m1s\u001b[0m 65ms/step - class_loss: 0.2762 - loss: 0.3453 - regression_loss: 0.0677 - val_class_loss: 0.2538 - val_loss: 0.3123 - val_regression_loss: 0.0585 - learning_rate: 2.0000e-04\n",
            "Epoch 25/100\n",
            "\u001b[1m6/7\u001b[0m \u001b[32m━━━━━━━━━━━━━━━━━\u001b[0m\u001b[37m━━━\u001b[0m \u001b[1m0s\u001b[0m 58ms/step - class_loss: 0.2739 - loss: 0.3407 - regression_loss: 0.0668\n",
            "Epoch 25: val_loss did not improve from 0.30801\n",
            "\u001b[1m7/7\u001b[0m \u001b[32m━━━━━━━━━━━━━━━━━━━━\u001b[0m\u001b[37m\u001b[0m \u001b[1m0s\u001b[0m 63ms/step - class_loss: 0.2743 - loss: 0.3419 - regression_loss: 0.0669 - val_class_loss: 0.2540 - val_loss: 0.3121 - val_regression_loss: 0.0581 - learning_rate: 2.0000e-04\n",
            "Epoch 26/100\n",
            "\u001b[1m7/7\u001b[0m \u001b[32m━━━━━━━━━━━━━━━━━━━━\u001b[0m\u001b[37m\u001b[0m \u001b[1m0s\u001b[0m 54ms/step - class_loss: 0.2724 - loss: 0.3391 - regression_loss: 0.0664\n",
            "Epoch 26: val_loss did not improve from 0.30801\n",
            "\u001b[1m7/7\u001b[0m \u001b[32m━━━━━━━━━━━━━━━━━━━━\u001b[0m\u001b[37m\u001b[0m \u001b[1m0s\u001b[0m 67ms/step - class_loss: 0.2723 - loss: 0.3393 - regression_loss: 0.0664 - val_class_loss: 0.2541 - val_loss: 0.3124 - val_regression_loss: 0.0583 - learning_rate: 2.0000e-04\n",
            "Epoch 27/100\n",
            "\u001b[1m6/7\u001b[0m \u001b[32m━━━━━━━━━━━━━━━━━\u001b[0m\u001b[37m━━━\u001b[0m \u001b[1m0s\u001b[0m 57ms/step - class_loss: 0.2809 - loss: 0.3444 - regression_loss: 0.0635\n",
            "Epoch 27: val_loss did not improve from 0.30801\n",
            "\u001b[1m7/7\u001b[0m \u001b[32m━━━━━━━━━━━━━━━━━━━━\u001b[0m\u001b[37m\u001b[0m \u001b[1m0s\u001b[0m 62ms/step - class_loss: 0.2800 - loss: 0.3453 - regression_loss: 0.0667 - val_class_loss: 0.2540 - val_loss: 0.3123 - val_regression_loss: 0.0583 - learning_rate: 2.0000e-04\n",
            "Epoch 28/100\n",
            "\u001b[1m6/7\u001b[0m \u001b[32m━━━━━━━━━━━━━━━━━\u001b[0m\u001b[37m━━━\u001b[0m \u001b[1m0s\u001b[0m 58ms/step - class_loss: 0.2675 - loss: 0.3336 - regression_loss: 0.0661\n",
            "Epoch 28: val_loss did not improve from 0.30801\n",
            "\u001b[1m7/7\u001b[0m \u001b[32m━━━━━━━━━━━━━━━━━━━━\u001b[0m\u001b[37m\u001b[0m \u001b[1m1s\u001b[0m 63ms/step - class_loss: 0.2682 - loss: 0.3343 - regression_loss: 0.0664 - val_class_loss: 0.2540 - val_loss: 0.3125 - val_regression_loss: 0.0585 - learning_rate: 2.0000e-04\n",
            "Epoch 29/100\n",
            "\u001b[1m7/7\u001b[0m \u001b[32m━━━━━━━━━━━━━━━━━━━━\u001b[0m\u001b[37m\u001b[0m \u001b[1m0s\u001b[0m 80ms/step - class_loss: 0.2785 - loss: 0.3469 - regression_loss: 0.0678\n",
            "Epoch 29: val_loss did not improve from 0.30801\n",
            "\u001b[1m7/7\u001b[0m \u001b[32m━━━━━━━━━━━━━━━━━━━━\u001b[0m\u001b[37m\u001b[0m \u001b[1m1s\u001b[0m 93ms/step - class_loss: 0.2778 - loss: 0.3466 - regression_loss: 0.0678 - val_class_loss: 0.2541 - val_loss: 0.3130 - val_regression_loss: 0.0589 - learning_rate: 2.0000e-04\n",
            "Epoch 30/100\n",
            "\u001b[1m7/7\u001b[0m \u001b[32m━━━━━━━━━━━━━━━━━━━━\u001b[0m\u001b[37m\u001b[0m \u001b[1m0s\u001b[0m 92ms/step - class_loss: 0.2728 - loss: 0.3389 - regression_loss: 0.0656\n",
            "Epoch 30: val_loss did not improve from 0.30801\n",
            "\u001b[1m7/7\u001b[0m \u001b[32m━━━━━━━━━━━━━━━━━━━━\u001b[0m\u001b[37m\u001b[0m \u001b[1m1s\u001b[0m 110ms/step - class_loss: 0.2726 - loss: 0.3391 - regression_loss: 0.0657 - val_class_loss: 0.2542 - val_loss: 0.3122 - val_regression_loss: 0.0580 - learning_rate: 2.0000e-04\n",
            "Epoch 31/100\n",
            "\u001b[1m7/7\u001b[0m \u001b[32m━━━━━━━━━━━━━━━━━━━━\u001b[0m\u001b[37m\u001b[0m \u001b[1m0s\u001b[0m 86ms/step - class_loss: 0.2734 - loss: 0.3404 - regression_loss: 0.0678\n",
            "Epoch 31: val_loss did not improve from 0.30801\n",
            "\u001b[1m7/7\u001b[0m \u001b[32m━━━━━━━━━━━━━━━━━━━━\u001b[0m\u001b[37m\u001b[0m \u001b[1m1s\u001b[0m 99ms/step - class_loss: 0.2741 - loss: 0.3403 - regression_loss: 0.0677 - val_class_loss: 0.2542 - val_loss: 0.3122 - val_regression_loss: 0.0580 - learning_rate: 2.0000e-04\n",
            "Epoch 32/100\n",
            "\u001b[1m7/7\u001b[0m \u001b[32m━━━━━━━━━━━━━━━━━━━━\u001b[0m\u001b[37m\u001b[0m \u001b[1m0s\u001b[0m 92ms/step - class_loss: 0.2724 - loss: 0.3394 - regression_loss: 0.0671\n",
            "Epoch 32: val_loss did not improve from 0.30801\n",
            "\u001b[1m7/7\u001b[0m \u001b[32m━━━━━━━━━━━━━━━━━━━━\u001b[0m\u001b[37m\u001b[0m \u001b[1m1s\u001b[0m 105ms/step - class_loss: 0.2727 - loss: 0.3394 - regression_loss: 0.0671 - val_class_loss: 0.2542 - val_loss: 0.3122 - val_regression_loss: 0.0580 - learning_rate: 2.0000e-04\n",
            "Epoch 33/100\n",
            "\u001b[1m7/7\u001b[0m \u001b[32m━━━━━━━━━━━━━━━━━━━━\u001b[0m\u001b[37m\u001b[0m \u001b[1m0s\u001b[0m 98ms/step - class_loss: 0.2656 - loss: 0.3314 - regression_loss: 0.0656 \n",
            "Epoch 33: val_loss did not improve from 0.30801\n",
            "\u001b[1m7/7\u001b[0m \u001b[32m━━━━━━━━━━━━━━━━━━━━\u001b[0m\u001b[37m\u001b[0m \u001b[1m1s\u001b[0m 119ms/step - class_loss: 0.2655 - loss: 0.3314 - regression_loss: 0.0656 - val_class_loss: 0.2541 - val_loss: 0.3119 - val_regression_loss: 0.0578 - learning_rate: 2.0000e-04\n",
            "Epoch 34/100\n",
            "\u001b[1m6/7\u001b[0m \u001b[32m━━━━━━━━━━━━━━━━━\u001b[0m\u001b[37m━━━\u001b[0m \u001b[1m0s\u001b[0m 57ms/step - class_loss: 0.2665 - loss: 0.3318 - regression_loss: 0.0654\n",
            "Epoch 34: val_loss did not improve from 0.30801\n",
            "\u001b[1m7/7\u001b[0m \u001b[32m━━━━━━━━━━━━━━━━━━━━\u001b[0m\u001b[37m\u001b[0m \u001b[1m1s\u001b[0m 61ms/step - class_loss: 0.2661 - loss: 0.3327 - regression_loss: 0.0659 - val_class_loss: 0.2539 - val_loss: 0.3123 - val_regression_loss: 0.0583 - learning_rate: 2.0000e-04\n",
            "Epoch 35/100\n",
            "\u001b[1m6/7\u001b[0m \u001b[32m━━━━━━━━━━━━━━━━━\u001b[0m\u001b[37m━━━\u001b[0m \u001b[1m0s\u001b[0m 55ms/step - class_loss: 0.2657 - loss: 0.3338 - regression_loss: 0.0681\n",
            "Epoch 35: val_loss did not improve from 0.30801\n",
            "\u001b[1m7/7\u001b[0m \u001b[32m━━━━━━━━━━━━━━━━━━━━\u001b[0m\u001b[37m\u001b[0m \u001b[1m0s\u001b[0m 60ms/step - class_loss: 0.2672 - loss: 0.3338 - regression_loss: 0.0675 - val_class_loss: 0.2539 - val_loss: 0.3121 - val_regression_loss: 0.0582 - learning_rate: 2.0000e-04\n",
            "Epoch 36/100\n",
            "\u001b[1m6/7\u001b[0m \u001b[32m━━━━━━━━━━━━━━━━━\u001b[0m\u001b[37m━━━\u001b[0m \u001b[1m0s\u001b[0m 59ms/step - class_loss: 0.2736 - loss: 0.3410 - regression_loss: 0.0675\n",
            "Epoch 36: val_loss did not improve from 0.30801\n",
            "\u001b[1m7/7\u001b[0m \u001b[32m━━━━━━━━━━━━━━━━━━━━\u001b[0m\u001b[37m\u001b[0m \u001b[1m0s\u001b[0m 65ms/step - class_loss: 0.2723 - loss: 0.3402 - regression_loss: 0.0670 - val_class_loss: 0.2539 - val_loss: 0.3116 - val_regression_loss: 0.0577 - learning_rate: 2.0000e-04\n",
            "Epoch 37/100\n",
            "\u001b[1m6/7\u001b[0m \u001b[32m━━━━━━━━━━━━━━━━━\u001b[0m\u001b[37m━━━\u001b[0m \u001b[1m0s\u001b[0m 55ms/step - class_loss: 0.2642 - loss: 0.3290 - regression_loss: 0.0648\n",
            "Epoch 37: val_loss did not improve from 0.30801\n",
            "\u001b[1m7/7\u001b[0m \u001b[32m━━━━━━━━━━━━━━━━━━━━\u001b[0m\u001b[37m\u001b[0m \u001b[1m0s\u001b[0m 60ms/step - class_loss: 0.2638 - loss: 0.3298 - regression_loss: 0.0651 - val_class_loss: 0.2539 - val_loss: 0.3117 - val_regression_loss: 0.0578 - learning_rate: 2.0000e-04\n",
            "Epoch 38/100\n",
            "\u001b[1m6/7\u001b[0m \u001b[32m━━━━━━━━━━━━━━━━━\u001b[0m\u001b[37m━━━\u001b[0m \u001b[1m0s\u001b[0m 55ms/step - class_loss: 0.2695 - loss: 0.3334 - regression_loss: 0.0640\n",
            "Epoch 38: val_loss did not improve from 0.30801\n",
            "\u001b[1m7/7\u001b[0m \u001b[32m━━━━━━━━━━━━━━━━━━━━\u001b[0m\u001b[37m\u001b[0m \u001b[1m1s\u001b[0m 61ms/step - class_loss: 0.2690 - loss: 0.3339 - regression_loss: 0.0646 - val_class_loss: 0.2537 - val_loss: 0.3117 - val_regression_loss: 0.0580 - learning_rate: 2.0000e-04\n",
            "Epoch 39/100\n",
            "\u001b[1m6/7\u001b[0m \u001b[32m━━━━━━━━━━━━━━━━━\u001b[0m\u001b[37m━━━\u001b[0m \u001b[1m0s\u001b[0m 66ms/step - class_loss: 0.2604 - loss: 0.3286 - regression_loss: 0.0682\n",
            "Epoch 39: val_loss did not improve from 0.30801\n",
            "\u001b[1m7/7\u001b[0m \u001b[32m━━━━━━━━━━━━━━━━━━━━\u001b[0m\u001b[37m\u001b[0m \u001b[1m1s\u001b[0m 70ms/step - class_loss: 0.2608 - loss: 0.3283 - regression_loss: 0.0673 - val_class_loss: 0.2536 - val_loss: 0.3114 - val_regression_loss: 0.0579 - learning_rate: 2.0000e-04\n",
            "Epoch 40/100\n",
            "\u001b[1m6/7\u001b[0m \u001b[32m━━━━━━━━━━━━━━━━━\u001b[0m\u001b[37m━━━\u001b[0m \u001b[1m0s\u001b[0m 57ms/step - class_loss: 0.2645 - loss: 0.3284 - regression_loss: 0.0639\n",
            "Epoch 40: val_loss did not improve from 0.30801\n",
            "\u001b[1m7/7\u001b[0m \u001b[32m━━━━━━━━━━━━━━━━━━━━\u001b[0m\u001b[37m\u001b[0m \u001b[1m0s\u001b[0m 63ms/step - class_loss: 0.2646 - loss: 0.3289 - regression_loss: 0.0649 - val_class_loss: 0.2536 - val_loss: 0.3119 - val_regression_loss: 0.0583 - learning_rate: 2.0000e-04\n",
            "Epoch 41/100\n",
            "\u001b[1m6/7\u001b[0m \u001b[32m━━━━━━━━━━━━━━━━━\u001b[0m\u001b[37m━━━\u001b[0m \u001b[1m0s\u001b[0m 63ms/step - class_loss: 0.2653 - loss: 0.3299 - regression_loss: 0.0646\n",
            "Epoch 41: val_loss did not improve from 0.30801\n",
            "\u001b[1m7/7\u001b[0m \u001b[32m━━━━━━━━━━━━━━━━━━━━\u001b[0m\u001b[37m\u001b[0m \u001b[1m1s\u001b[0m 67ms/step - class_loss: 0.2643 - loss: 0.3302 - regression_loss: 0.0651 - val_class_loss: 0.2536 - val_loss: 0.3118 - val_regression_loss: 0.0581 - learning_rate: 2.0000e-04\n",
            "Epoch 42/100\n",
            "\u001b[1m6/7\u001b[0m \u001b[32m━━━━━━━━━━━━━━━━━\u001b[0m\u001b[37m━━━\u001b[0m \u001b[1m0s\u001b[0m 55ms/step - class_loss: 0.2677 - loss: 0.3344 - regression_loss: 0.0667\n",
            "Epoch 42: val_loss did not improve from 0.30801\n",
            "\u001b[1m7/7\u001b[0m \u001b[32m━━━━━━━━━━━━━━━━━━━━\u001b[0m\u001b[37m\u001b[0m \u001b[1m0s\u001b[0m 60ms/step - class_loss: 0.2677 - loss: 0.3340 - regression_loss: 0.0665 - val_class_loss: 0.2537 - val_loss: 0.3113 - val_regression_loss: 0.0577 - learning_rate: 2.0000e-04\n",
            "Epoch 43/100\n",
            "\u001b[1m6/7\u001b[0m \u001b[32m━━━━━━━━━━━━━━━━━\u001b[0m\u001b[37m━━━\u001b[0m \u001b[1m0s\u001b[0m 62ms/step - class_loss: 0.2600 - loss: 0.3247 - regression_loss: 0.0647\n",
            "Epoch 43: val_loss did not improve from 0.30801\n",
            "\u001b[1m7/7\u001b[0m \u001b[32m━━━━━━━━━━━━━━━━━━━━\u001b[0m\u001b[37m\u001b[0m \u001b[1m1s\u001b[0m 66ms/step - class_loss: 0.2602 - loss: 0.3256 - regression_loss: 0.0654 - val_class_loss: 0.2537 - val_loss: 0.3114 - val_regression_loss: 0.0577 - learning_rate: 2.0000e-04\n",
            "Epoch 44/100\n",
            "\u001b[1m6/7\u001b[0m \u001b[32m━━━━━━━━━━━━━━━━━\u001b[0m\u001b[37m━━━\u001b[0m \u001b[1m0s\u001b[0m 55ms/step - class_loss: 0.2570 - loss: 0.3225 - regression_loss: 0.0656\n",
            "Epoch 44: val_loss did not improve from 0.30801\n",
            "\u001b[1m7/7\u001b[0m \u001b[32m━━━━━━━━━━━━━━━━━━━━\u001b[0m\u001b[37m\u001b[0m \u001b[1m0s\u001b[0m 61ms/step - class_loss: 0.2577 - loss: 0.3234 - regression_loss: 0.0656 - val_class_loss: 0.2535 - val_loss: 0.3117 - val_regression_loss: 0.0582 - learning_rate: 2.0000e-04\n",
            "Epoch 45/100\n",
            "\u001b[1m7/7\u001b[0m \u001b[32m━━━━━━━━━━━━━━━━━━━━\u001b[0m\u001b[37m\u001b[0m \u001b[1m0s\u001b[0m 61ms/step - class_loss: 0.2568 - loss: 0.3222 - regression_loss: 0.0652\n",
            "Epoch 45: val_loss did not improve from 0.30801\n",
            "\u001b[1m7/7\u001b[0m \u001b[32m━━━━━━━━━━━━━━━━━━━━\u001b[0m\u001b[37m\u001b[0m \u001b[1m1s\u001b[0m 69ms/step - class_loss: 0.2569 - loss: 0.3223 - regression_loss: 0.0652 - val_class_loss: 0.2534 - val_loss: 0.3112 - val_regression_loss: 0.0578 - learning_rate: 2.0000e-04\n",
            "Epoch 46/100\n",
            "\u001b[1m6/7\u001b[0m \u001b[32m━━━━━━━━━━━━━━━━━\u001b[0m\u001b[37m━━━\u001b[0m \u001b[1m0s\u001b[0m 56ms/step - class_loss: 0.2598 - loss: 0.3252 - regression_loss: 0.0654\n",
            "Epoch 46: val_loss did not improve from 0.30801\n",
            "\u001b[1m7/7\u001b[0m \u001b[32m━━━━━━━━━━━━━━━━━━━━\u001b[0m\u001b[37m\u001b[0m \u001b[1m0s\u001b[0m 62ms/step - class_loss: 0.2597 - loss: 0.3256 - regression_loss: 0.0658 - val_class_loss: 0.2533 - val_loss: 0.3116 - val_regression_loss: 0.0583 - learning_rate: 2.0000e-04\n",
            "Epoch 47/100\n",
            "\u001b[1m6/7\u001b[0m \u001b[32m━━━━━━━━━━━━━━━━━\u001b[0m\u001b[37m━━━\u001b[0m \u001b[1m0s\u001b[0m 68ms/step - class_loss: 0.2562 - loss: 0.3211 - regression_loss: 0.0649\n",
            "Epoch 47: val_loss did not improve from 0.30801\n",
            "\u001b[1m7/7\u001b[0m \u001b[32m━━━━━━━━━━━━━━━━━━━━\u001b[0m\u001b[37m\u001b[0m \u001b[1m1s\u001b[0m 71ms/step - class_loss: 0.2565 - loss: 0.3213 - regression_loss: 0.0656 - val_class_loss: 0.2535 - val_loss: 0.3115 - val_regression_loss: 0.0581 - learning_rate: 2.0000e-04\n",
            "Epoch 48/100\n",
            "\u001b[1m6/7\u001b[0m \u001b[32m━━━━━━━━━━━━━━━━━\u001b[0m\u001b[37m━━━\u001b[0m \u001b[1m0s\u001b[0m 55ms/step - class_loss: 0.2518 - loss: 0.3168 - regression_loss: 0.0650\n",
            "Epoch 48: val_loss did not improve from 0.30801\n",
            "\u001b[1m7/7\u001b[0m \u001b[32m━━━━━━━━━━━━━━━━━━━━\u001b[0m\u001b[37m\u001b[0m \u001b[1m0s\u001b[0m 61ms/step - class_loss: 0.2531 - loss: 0.3177 - regression_loss: 0.0652 - val_class_loss: 0.2535 - val_loss: 0.3113 - val_regression_loss: 0.0578 - learning_rate: 2.0000e-04\n",
            "Epoch 49/100\n",
            "\u001b[1m6/7\u001b[0m \u001b[32m━━━━━━━━━━━━━━━━━\u001b[0m\u001b[37m━━━\u001b[0m \u001b[1m0s\u001b[0m 58ms/step - class_loss: 0.2583 - loss: 0.3223 - regression_loss: 0.0641\n",
            "Epoch 49: val_loss did not improve from 0.30801\n",
            "\u001b[1m7/7\u001b[0m \u001b[32m━━━━━━━━━━━━━━━━━━━━\u001b[0m\u001b[37m\u001b[0m \u001b[1m1s\u001b[0m 63ms/step - class_loss: 0.2577 - loss: 0.3221 - regression_loss: 0.0641 - val_class_loss: 0.2535 - val_loss: 0.3115 - val_regression_loss: 0.0580 - learning_rate: 2.0000e-04\n",
            "Epoch 50/100\n",
            "\u001b[1m7/7\u001b[0m \u001b[32m━━━━━━━━━━━━━━━━━━━━\u001b[0m\u001b[37m\u001b[0m \u001b[1m0s\u001b[0m 58ms/step - class_loss: 0.2589 - loss: 0.3249 - regression_loss: 0.0661\n",
            "Epoch 50: val_loss did not improve from 0.30801\n",
            "\u001b[1m7/7\u001b[0m \u001b[32m━━━━━━━━━━━━━━━━━━━━\u001b[0m\u001b[37m\u001b[0m \u001b[1m1s\u001b[0m 67ms/step - class_loss: 0.2594 - loss: 0.3253 - regression_loss: 0.0661 - val_class_loss: 0.2536 - val_loss: 0.3118 - val_regression_loss: 0.0582 - learning_rate: 2.0000e-04\n",
            "Epoch 51/100\n",
            "\u001b[1m6/7\u001b[0m \u001b[32m━━━━━━━━━━━━━━━━━\u001b[0m\u001b[37m━━━\u001b[0m \u001b[1m0s\u001b[0m 62ms/step - class_loss: 0.2619 - loss: 0.3279 - regression_loss: 0.0660\n",
            "Epoch 51: val_loss did not improve from 0.30801\n",
            "\u001b[1m7/7\u001b[0m \u001b[32m━━━━━━━━━━━━━━━━━━━━\u001b[0m\u001b[37m\u001b[0m \u001b[1m1s\u001b[0m 67ms/step - class_loss: 0.2616 - loss: 0.3272 - regression_loss: 0.0658 - val_class_loss: 0.2537 - val_loss: 0.3115 - val_regression_loss: 0.0577 - learning_rate: 2.0000e-04\n",
            "Epoch 52/100\n",
            "\u001b[1m7/7\u001b[0m \u001b[32m━━━━━━━━━━━━━━━━━━━━\u001b[0m\u001b[37m\u001b[0m \u001b[1m0s\u001b[0m 93ms/step - class_loss: 0.2538 - loss: 0.3186 - regression_loss: 0.0647\n",
            "Epoch 52: val_loss did not improve from 0.30801\n",
            "\u001b[1m7/7\u001b[0m \u001b[32m━━━━━━━━━━━━━━━━━━━━\u001b[0m\u001b[37m\u001b[0m \u001b[1m1s\u001b[0m 113ms/step - class_loss: 0.2540 - loss: 0.3190 - regression_loss: 0.0649 - val_class_loss: 0.2538 - val_loss: 0.3116 - val_regression_loss: 0.0578 - learning_rate: 2.0000e-04\n",
            "Epoch 53/100\n",
            "\u001b[1m7/7\u001b[0m \u001b[32m━━━━━━━━━━━━━━━━━━━━\u001b[0m\u001b[37m\u001b[0m \u001b[1m0s\u001b[0m 87ms/step - class_loss: 0.2589 - loss: 0.3227 - regression_loss: 0.0638\n",
            "Epoch 53: val_loss did not improve from 0.30801\n",
            "\u001b[1m7/7\u001b[0m \u001b[32m━━━━━━━━━━━━━━━━━━━━\u001b[0m\u001b[37m\u001b[0m \u001b[1m1s\u001b[0m 105ms/step - class_loss: 0.2589 - loss: 0.3229 - regression_loss: 0.0640 - val_class_loss: 0.2540 - val_loss: 0.3120 - val_regression_loss: 0.0580 - learning_rate: 2.0000e-04\n",
            "Epoch 54/100\n",
            "\u001b[1m7/7\u001b[0m \u001b[32m━━━━━━━━━━━━━━━━━━━━\u001b[0m\u001b[37m\u001b[0m \u001b[1m0s\u001b[0m 87ms/step - class_loss: 0.2550 - loss: 0.3206 - regression_loss: 0.0652\n",
            "Epoch 54: val_loss did not improve from 0.30801\n",
            "\u001b[1m7/7\u001b[0m \u001b[32m━━━━━━━━━━━━━━━━━━━━\u001b[0m\u001b[37m\u001b[0m \u001b[1m1s\u001b[0m 103ms/step - class_loss: 0.2548 - loss: 0.3206 - regression_loss: 0.0651 - val_class_loss: 0.2540 - val_loss: 0.3117 - val_regression_loss: 0.0577 - learning_rate: 2.0000e-04\n",
            "Epoch 55/100\n",
            "\u001b[1m7/7\u001b[0m \u001b[32m━━━━━━━━━━━━━━━━━━━━\u001b[0m\u001b[37m\u001b[0m \u001b[1m0s\u001b[0m 89ms/step - class_loss: 0.2578 - loss: 0.3228 - regression_loss: 0.0651\n",
            "Epoch 55: val_loss did not improve from 0.30801\n",
            "\u001b[1m7/7\u001b[0m \u001b[32m━━━━━━━━━━━━━━━━━━━━\u001b[0m\u001b[37m\u001b[0m \u001b[1m1s\u001b[0m 109ms/step - class_loss: 0.2579 - loss: 0.3227 - regression_loss: 0.0651 - val_class_loss: 0.2538 - val_loss: 0.3115 - val_regression_loss: 0.0576 - learning_rate: 2.0000e-04\n",
            "Epoch 56/100\n",
            "\u001b[1m6/7\u001b[0m \u001b[32m━━━━━━━━━━━━━━━━━\u001b[0m\u001b[37m━━━\u001b[0m \u001b[1m0s\u001b[0m 56ms/step - class_loss: 0.2503 - loss: 0.3181 - regression_loss: 0.0679\n",
            "Epoch 56: val_loss did not improve from 0.30801\n",
            "\u001b[1m7/7\u001b[0m \u001b[32m━━━━━━━━━━━━━━━━━━━━\u001b[0m\u001b[37m\u001b[0m \u001b[1m1s\u001b[0m 62ms/step - class_loss: 0.2513 - loss: 0.3187 - regression_loss: 0.0674 - val_class_loss: 0.2536 - val_loss: 0.3115 - val_regression_loss: 0.0579 - learning_rate: 2.0000e-04\n",
            "Epoch 57/100\n",
            "\u001b[1m6/7\u001b[0m \u001b[32m━━━━━━━━━━━━━━━━━\u001b[0m\u001b[37m━━━\u001b[0m \u001b[1m0s\u001b[0m 56ms/step - class_loss: 0.2563 - loss: 0.3226 - regression_loss: 0.0664\n",
            "Epoch 57: ReduceLROnPlateau reducing learning rate to 0.00017999999545281753.\n",
            "\n",
            "Epoch 57: val_loss did not improve from 0.30801\n",
            "\u001b[1m7/7\u001b[0m \u001b[32m━━━━━━━━━━━━━━━━━━━━\u001b[0m\u001b[37m\u001b[0m \u001b[1m1s\u001b[0m 64ms/step - class_loss: 0.2560 - loss: 0.3227 - regression_loss: 0.0661 - val_class_loss: 0.2532 - val_loss: 0.3110 - val_regression_loss: 0.0577 - learning_rate: 2.0000e-04\n",
            "Epoch 58/100\n",
            "\u001b[1m6/7\u001b[0m \u001b[32m━━━━━━━━━━━━━━━━━\u001b[0m\u001b[37m━━━\u001b[0m \u001b[1m0s\u001b[0m 62ms/step - class_loss: 0.2556 - loss: 0.3218 - regression_loss: 0.0662\n",
            "Epoch 58: val_loss did not improve from 0.30801\n",
            "\u001b[1m7/7\u001b[0m \u001b[32m━━━━━━━━━━━━━━━━━━━━\u001b[0m\u001b[37m\u001b[0m \u001b[1m1s\u001b[0m 67ms/step - class_loss: 0.2555 - loss: 0.3213 - regression_loss: 0.0662 - val_class_loss: 0.2531 - val_loss: 0.3109 - val_regression_loss: 0.0578 - learning_rate: 1.8000e-04\n",
            "Epoch 59/100\n",
            "\u001b[1m6/7\u001b[0m \u001b[32m━━━━━━━━━━━━━━━━━\u001b[0m\u001b[37m━━━\u001b[0m \u001b[1m0s\u001b[0m 59ms/step - class_loss: 0.2534 - loss: 0.3182 - regression_loss: 0.0648\n",
            "Epoch 59: val_loss did not improve from 0.30801\n",
            "\u001b[1m7/7\u001b[0m \u001b[32m━━━━━━━━━━━━━━━━━━━━\u001b[0m\u001b[37m\u001b[0m \u001b[1m1s\u001b[0m 66ms/step - class_loss: 0.2531 - loss: 0.3183 - regression_loss: 0.0654 - val_class_loss: 0.2530 - val_loss: 0.3108 - val_regression_loss: 0.0577 - learning_rate: 1.8000e-04\n",
            "Epoch 60/100\n",
            "\u001b[1m6/7\u001b[0m \u001b[32m━━━━━━━━━━━━━━━━━\u001b[0m\u001b[37m━━━\u001b[0m \u001b[1m0s\u001b[0m 56ms/step - class_loss: 0.2596 - loss: 0.3229 - regression_loss: 0.0633\n",
            "Epoch 60: val_loss did not improve from 0.30801\n",
            "\u001b[1m7/7\u001b[0m \u001b[32m━━━━━━━━━━━━━━━━━━━━\u001b[0m\u001b[37m\u001b[0m \u001b[1m1s\u001b[0m 69ms/step - class_loss: 0.2590 - loss: 0.3227 - regression_loss: 0.0635 - val_class_loss: 0.2530 - val_loss: 0.3106 - val_regression_loss: 0.0576 - learning_rate: 1.8000e-04\n",
            "Epoch 61/100\n",
            "\u001b[1m6/7\u001b[0m \u001b[32m━━━━━━━━━━━━━━━━━\u001b[0m\u001b[37m━━━\u001b[0m \u001b[1m0s\u001b[0m 61ms/step - class_loss: 0.2536 - loss: 0.3179 - regression_loss: 0.0643\n",
            "Epoch 61: val_loss did not improve from 0.30801\n",
            "\u001b[1m7/7\u001b[0m \u001b[32m━━━━━━━━━━━━━━━━━━━━\u001b[0m\u001b[37m\u001b[0m \u001b[1m1s\u001b[0m 67ms/step - class_loss: 0.2538 - loss: 0.3186 - regression_loss: 0.0647 - val_class_loss: 0.2530 - val_loss: 0.3106 - val_regression_loss: 0.0576 - learning_rate: 1.8000e-04\n",
            "Epoch 62/100\n",
            "\u001b[1m6/7\u001b[0m \u001b[32m━━━━━━━━━━━━━━━━━\u001b[0m\u001b[37m━━━\u001b[0m \u001b[1m0s\u001b[0m 55ms/step - class_loss: 0.2562 - loss: 0.3208 - regression_loss: 0.0646\n",
            "Epoch 62: val_loss did not improve from 0.30801\n",
            "\u001b[1m7/7\u001b[0m \u001b[32m━━━━━━━━━━━━━━━━━━━━\u001b[0m\u001b[37m\u001b[0m \u001b[1m0s\u001b[0m 60ms/step - class_loss: 0.2558 - loss: 0.3209 - regression_loss: 0.0647 - val_class_loss: 0.2529 - val_loss: 0.3113 - val_regression_loss: 0.0584 - learning_rate: 1.8000e-04\n",
            "Epoch 63/100\n",
            "\u001b[1m6/7\u001b[0m \u001b[32m━━━━━━━━━━━━━━━━━\u001b[0m\u001b[37m━━━\u001b[0m \u001b[1m0s\u001b[0m 60ms/step - class_loss: 0.2577 - loss: 0.3239 - regression_loss: 0.0661\n",
            "Epoch 63: val_loss did not improve from 0.30801\n",
            "\u001b[1m7/7\u001b[0m \u001b[32m━━━━━━━━━━━━━━━━━━━━\u001b[0m\u001b[37m\u001b[0m \u001b[1m1s\u001b[0m 64ms/step - class_loss: 0.2576 - loss: 0.3233 - regression_loss: 0.0657 - val_class_loss: 0.2529 - val_loss: 0.3106 - val_regression_loss: 0.0576 - learning_rate: 1.8000e-04\n",
            "Epoch 64/100\n",
            "\u001b[1m6/7\u001b[0m \u001b[32m━━━━━━━━━━━━━━━━━\u001b[0m\u001b[37m━━━\u001b[0m \u001b[1m0s\u001b[0m 59ms/step - class_loss: 0.2576 - loss: 0.3224 - regression_loss: 0.0648\n",
            "Epoch 64: val_loss did not improve from 0.30801\n",
            "\u001b[1m7/7\u001b[0m \u001b[32m━━━━━━━━━━━━━━━━━━━━\u001b[0m\u001b[37m\u001b[0m \u001b[1m1s\u001b[0m 63ms/step - class_loss: 0.2576 - loss: 0.3222 - regression_loss: 0.0647 - val_class_loss: 0.2528 - val_loss: 0.3102 - val_regression_loss: 0.0574 - learning_rate: 1.8000e-04\n",
            "Epoch 65/100\n",
            "\u001b[1m6/7\u001b[0m \u001b[32m━━━━━━━━━━━━━━━━━\u001b[0m\u001b[37m━━━\u001b[0m \u001b[1m0s\u001b[0m 61ms/step - class_loss: 0.2531 - loss: 0.3191 - regression_loss: 0.0660\n",
            "Epoch 65: val_loss did not improve from 0.30801\n",
            "\u001b[1m7/7\u001b[0m \u001b[32m━━━━━━━━━━━━━━━━━━━━\u001b[0m\u001b[37m\u001b[0m \u001b[1m0s\u001b[0m 65ms/step - class_loss: 0.2536 - loss: 0.3196 - regression_loss: 0.0660 - val_class_loss: 0.2526 - val_loss: 0.3103 - val_regression_loss: 0.0577 - learning_rate: 1.8000e-04\n",
            "Epoch 66/100\n",
            "\u001b[1m6/7\u001b[0m \u001b[32m━━━━━━━━━━━━━━━━━\u001b[0m\u001b[37m━━━\u001b[0m \u001b[1m0s\u001b[0m 59ms/step - class_loss: 0.2551 - loss: 0.3208 - regression_loss: 0.0657\n",
            "Epoch 66: val_loss did not improve from 0.30801\n",
            "\u001b[1m7/7\u001b[0m \u001b[32m━━━━━━━━━━━━━━━━━━━━\u001b[0m\u001b[37m\u001b[0m \u001b[1m1s\u001b[0m 65ms/step - class_loss: 0.2544 - loss: 0.3199 - regression_loss: 0.0654 - val_class_loss: 0.2525 - val_loss: 0.3102 - val_regression_loss: 0.0577 - learning_rate: 1.8000e-04\n",
            "Epoch 67/100\n",
            "\u001b[1m6/7\u001b[0m \u001b[32m━━━━━━━━━━━━━━━━━\u001b[0m\u001b[37m━━━\u001b[0m \u001b[1m0s\u001b[0m 56ms/step - class_loss: 0.2524 - loss: 0.3187 - regression_loss: 0.0663\n",
            "Epoch 67: val_loss did not improve from 0.30801\n",
            "\u001b[1m7/7\u001b[0m \u001b[32m━━━━━━━━━━━━━━━━━━━━\u001b[0m\u001b[37m\u001b[0m \u001b[1m0s\u001b[0m 62ms/step - class_loss: 0.2525 - loss: 0.3181 - regression_loss: 0.0663 - val_class_loss: 0.2525 - val_loss: 0.3107 - val_regression_loss: 0.0582 - learning_rate: 1.8000e-04\n",
            "Epoch 68/100\n",
            "\u001b[1m7/7\u001b[0m \u001b[32m━━━━━━━━━━━━━━━━━━━━\u001b[0m\u001b[37m\u001b[0m \u001b[1m0s\u001b[0m 61ms/step - class_loss: 0.2496 - loss: 0.3150 - regression_loss: 0.0655\n",
            "Epoch 68: val_loss did not improve from 0.30801\n",
            "\u001b[1m7/7\u001b[0m \u001b[32m━━━━━━━━━━━━━━━━━━━━\u001b[0m\u001b[37m\u001b[0m \u001b[1m1s\u001b[0m 71ms/step - class_loss: 0.2498 - loss: 0.3151 - regression_loss: 0.0654 - val_class_loss: 0.2525 - val_loss: 0.3102 - val_regression_loss: 0.0577 - learning_rate: 1.8000e-04\n",
            "Epoch 69/100\n",
            "\u001b[1m6/7\u001b[0m \u001b[32m━━━━━━━━━━━━━━━━━\u001b[0m\u001b[37m━━━\u001b[0m \u001b[1m0s\u001b[0m 57ms/step - class_loss: 0.2551 - loss: 0.3240 - regression_loss: 0.0689\n",
            "Epoch 69: val_loss did not improve from 0.30801\n",
            "\u001b[1m7/7\u001b[0m \u001b[32m━━━━━━━━━━━━━━━━━━━━\u001b[0m\u001b[37m\u001b[0m \u001b[1m0s\u001b[0m 63ms/step - class_loss: 0.2544 - loss: 0.3226 - regression_loss: 0.0681 - val_class_loss: 0.2525 - val_loss: 0.3100 - val_regression_loss: 0.0575 - learning_rate: 1.8000e-04\n",
            "Epoch 70/100\n",
            "\u001b[1m6/7\u001b[0m \u001b[32m━━━━━━━━━━━━━━━━━\u001b[0m\u001b[37m━━━\u001b[0m \u001b[1m0s\u001b[0m 62ms/step - class_loss: 0.2489 - loss: 0.3134 - regression_loss: 0.0646\n",
            "Epoch 70: val_loss did not improve from 0.30801\n",
            "\u001b[1m7/7\u001b[0m \u001b[32m━━━━━━━━━━━━━━━━━━━━\u001b[0m\u001b[37m\u001b[0m \u001b[1m1s\u001b[0m 66ms/step - class_loss: 0.2498 - loss: 0.3144 - regression_loss: 0.0648 - val_class_loss: 0.2524 - val_loss: 0.3100 - val_regression_loss: 0.0576 - learning_rate: 1.8000e-04\n",
            "Epoch 71/100\n",
            "\u001b[1m7/7\u001b[0m \u001b[32m━━━━━━━━━━━━━━━━━━━━\u001b[0m\u001b[37m\u001b[0m \u001b[1m0s\u001b[0m 56ms/step - class_loss: 0.2560 - loss: 0.3221 - regression_loss: 0.0660\n",
            "Epoch 71: val_loss did not improve from 0.30801\n",
            "\u001b[1m7/7\u001b[0m \u001b[32m━━━━━━━━━━━━━━━━━━━━\u001b[0m\u001b[37m\u001b[0m \u001b[1m1s\u001b[0m 66ms/step - class_loss: 0.2560 - loss: 0.3221 - regression_loss: 0.0658 - val_class_loss: 0.2522 - val_loss: 0.3099 - val_regression_loss: 0.0577 - learning_rate: 1.8000e-04\n",
            "Epoch 72/100\n",
            "\u001b[1m7/7\u001b[0m \u001b[32m━━━━━━━━━━━━━━━━━━━━\u001b[0m\u001b[37m\u001b[0m \u001b[1m0s\u001b[0m 61ms/step - class_loss: 0.2503 - loss: 0.3147 - regression_loss: 0.0644\n",
            "Epoch 72: val_loss did not improve from 0.30801\n",
            "\u001b[1m7/7\u001b[0m \u001b[32m━━━━━━━━━━━━━━━━━━━━\u001b[0m\u001b[37m\u001b[0m \u001b[1m1s\u001b[0m 82ms/step - class_loss: 0.2503 - loss: 0.3150 - regression_loss: 0.0646 - val_class_loss: 0.2522 - val_loss: 0.3098 - val_regression_loss: 0.0576 - learning_rate: 1.8000e-04\n",
            "Epoch 73/100\n",
            "\u001b[1m7/7\u001b[0m \u001b[32m━━━━━━━━━━━━━━━━━━━━\u001b[0m\u001b[37m\u001b[0m \u001b[1m0s\u001b[0m 93ms/step - class_loss: 0.2521 - loss: 0.3178 - regression_loss: 0.0653\n",
            "Epoch 73: val_loss did not improve from 0.30801\n",
            "\u001b[1m7/7\u001b[0m \u001b[32m━━━━━━━━━━━━━━━━━━━━\u001b[0m\u001b[37m\u001b[0m \u001b[1m1s\u001b[0m 106ms/step - class_loss: 0.2520 - loss: 0.3179 - regression_loss: 0.0651 - val_class_loss: 0.2521 - val_loss: 0.3096 - val_regression_loss: 0.0575 - learning_rate: 1.8000e-04\n",
            "Epoch 74/100\n",
            "\u001b[1m7/7\u001b[0m \u001b[32m━━━━━━━━━━━━━━━━━━━━\u001b[0m\u001b[37m\u001b[0m \u001b[1m0s\u001b[0m 87ms/step - class_loss: 0.2548 - loss: 0.3237 - regression_loss: 0.0686\n",
            "Epoch 74: val_loss did not improve from 0.30801\n",
            "\u001b[1m7/7\u001b[0m \u001b[32m━━━━━━━━━━━━━━━━━━━━\u001b[0m\u001b[37m\u001b[0m \u001b[1m1s\u001b[0m 100ms/step - class_loss: 0.2543 - loss: 0.3230 - regression_loss: 0.0682 - val_class_loss: 0.2521 - val_loss: 0.3096 - val_regression_loss: 0.0575 - learning_rate: 1.8000e-04\n",
            "Epoch 75/100\n",
            "\u001b[1m7/7\u001b[0m \u001b[32m━━━━━━━━━━━━━━━━━━━━\u001b[0m\u001b[37m\u001b[0m \u001b[1m0s\u001b[0m 92ms/step - class_loss: 0.2520 - loss: 0.3176 - regression_loss: 0.0658\n",
            "Epoch 75: val_loss did not improve from 0.30801\n",
            "\u001b[1m7/7\u001b[0m \u001b[32m━━━━━━━━━━━━━━━━━━━━\u001b[0m\u001b[37m\u001b[0m \u001b[1m1s\u001b[0m 111ms/step - class_loss: 0.2521 - loss: 0.3175 - regression_loss: 0.0658 - val_class_loss: 0.2523 - val_loss: 0.3099 - val_regression_loss: 0.0576 - learning_rate: 1.8000e-04\n",
            "Epoch 76/100\n",
            "\u001b[1m7/7\u001b[0m \u001b[32m━━━━━━━━━━━━━━━━━━━━\u001b[0m\u001b[37m\u001b[0m \u001b[1m0s\u001b[0m 91ms/step - class_loss: 0.2480 - loss: 0.3111 - regression_loss: 0.0634\n",
            "Epoch 76: val_loss did not improve from 0.30801\n",
            "\u001b[1m7/7\u001b[0m \u001b[32m━━━━━━━━━━━━━━━━━━━━\u001b[0m\u001b[37m\u001b[0m \u001b[1m1s\u001b[0m 105ms/step - class_loss: 0.2484 - loss: 0.3115 - regression_loss: 0.0637 - val_class_loss: 0.2524 - val_loss: 0.3101 - val_regression_loss: 0.0577 - learning_rate: 1.8000e-04\n",
            "Epoch 77/100\n",
            "\u001b[1m7/7\u001b[0m \u001b[32m━━━━━━━━━━━━━━━━━━━━\u001b[0m\u001b[37m\u001b[0m \u001b[1m0s\u001b[0m 91ms/step - class_loss: 0.2507 - loss: 0.3160 - regression_loss: 0.0654\n",
            "Epoch 77: val_loss did not improve from 0.30801\n",
            "\u001b[1m7/7\u001b[0m \u001b[32m━━━━━━━━━━━━━━━━━━━━\u001b[0m\u001b[37m\u001b[0m \u001b[1m1s\u001b[0m 100ms/step - class_loss: 0.2509 - loss: 0.3161 - regression_loss: 0.0654 - val_class_loss: 0.2525 - val_loss: 0.3101 - val_regression_loss: 0.0576 - learning_rate: 1.8000e-04\n",
            "Epoch 78/100\n",
            "\u001b[1m6/7\u001b[0m \u001b[32m━━━━━━━━━━━━━━━━━\u001b[0m\u001b[37m━━━\u001b[0m \u001b[1m0s\u001b[0m 60ms/step - class_loss: 0.2513 - loss: 0.3168 - regression_loss: 0.0656\n",
            "Epoch 78: val_loss did not improve from 0.30801\n",
            "\u001b[1m7/7\u001b[0m \u001b[32m━━━━━━━━━━━━━━━━━━━━\u001b[0m\u001b[37m\u001b[0m \u001b[1m1s\u001b[0m 65ms/step - class_loss: 0.2506 - loss: 0.3166 - regression_loss: 0.0654 - val_class_loss: 0.2525 - val_loss: 0.3100 - val_regression_loss: 0.0575 - learning_rate: 1.8000e-04\n",
            "Epoch 79/100\n",
            "\u001b[1m6/7\u001b[0m \u001b[32m━━━━━━━━━━━━━━━━━\u001b[0m\u001b[37m━━━\u001b[0m \u001b[1m0s\u001b[0m 57ms/step - class_loss: 0.2510 - loss: 0.3162 - regression_loss: 0.0652\n",
            "Epoch 79: val_loss did not improve from 0.30801\n",
            "\u001b[1m7/7\u001b[0m \u001b[32m━━━━━━━━━━━━━━━━━━━━\u001b[0m\u001b[37m\u001b[0m \u001b[1m0s\u001b[0m 63ms/step - class_loss: 0.2514 - loss: 0.3163 - regression_loss: 0.0655 - val_class_loss: 0.2525 - val_loss: 0.3101 - val_regression_loss: 0.0575 - learning_rate: 1.8000e-04\n",
            "Epoch 80/100\n",
            "\u001b[1m7/7\u001b[0m \u001b[32m━━━━━━━━━━━━━━━━━━━━\u001b[0m\u001b[37m\u001b[0m \u001b[1m0s\u001b[0m 59ms/step - class_loss: 0.2521 - loss: 0.3166 - regression_loss: 0.0642\n",
            "Epoch 80: val_loss did not improve from 0.30801\n",
            "\u001b[1m7/7\u001b[0m \u001b[32m━━━━━━━━━━━━━━━━━━━━\u001b[0m\u001b[37m\u001b[0m \u001b[1m1s\u001b[0m 68ms/step - class_loss: 0.2519 - loss: 0.3166 - regression_loss: 0.0642 - val_class_loss: 0.2525 - val_loss: 0.3102 - val_regression_loss: 0.0577 - learning_rate: 1.8000e-04\n",
            "Epoch 81/100\n",
            "\u001b[1m7/7\u001b[0m \u001b[32m━━━━━━━━━━━━━━━━━━━━\u001b[0m\u001b[37m\u001b[0m \u001b[1m0s\u001b[0m 59ms/step - class_loss: 0.2505 - loss: 0.3164 - regression_loss: 0.0664\n",
            "Epoch 81: val_loss did not improve from 0.30801\n",
            "\u001b[1m7/7\u001b[0m \u001b[32m━━━━━━━━━━━━━━━━━━━━\u001b[0m\u001b[37m\u001b[0m \u001b[1m1s\u001b[0m 71ms/step - class_loss: 0.2508 - loss: 0.3165 - regression_loss: 0.0665 - val_class_loss: 0.2526 - val_loss: 0.3104 - val_regression_loss: 0.0578 - learning_rate: 1.8000e-04\n",
            "Epoch 82/100\n",
            "\u001b[1m6/7\u001b[0m \u001b[32m━━━━━━━━━━━━━━━━━\u001b[0m\u001b[37m━━━\u001b[0m \u001b[1m0s\u001b[0m 61ms/step - class_loss: 0.2529 - loss: 0.3194 - regression_loss: 0.0664\n",
            "Epoch 82: val_loss did not improve from 0.30801\n",
            "\u001b[1m7/7\u001b[0m \u001b[32m━━━━━━━━━━━━━━━━━━━━\u001b[0m\u001b[37m\u001b[0m \u001b[1m0s\u001b[0m 66ms/step - class_loss: 0.2531 - loss: 0.3192 - regression_loss: 0.0660 - val_class_loss: 0.2526 - val_loss: 0.3105 - val_regression_loss: 0.0578 - learning_rate: 1.8000e-04\n",
            "Epoch 83/100\n",
            "\u001b[1m6/7\u001b[0m \u001b[32m━━━━━━━━━━━━━━━━━\u001b[0m\u001b[37m━━━\u001b[0m \u001b[1m0s\u001b[0m 63ms/step - class_loss: 0.2490 - loss: 0.3141 - regression_loss: 0.0651\n",
            "Epoch 83: val_loss did not improve from 0.30801\n",
            "\u001b[1m7/7\u001b[0m \u001b[32m━━━━━━━━━━━━━━━━━━━━\u001b[0m\u001b[37m\u001b[0m \u001b[1m1s\u001b[0m 67ms/step - class_loss: 0.2489 - loss: 0.3139 - regression_loss: 0.0651 - val_class_loss: 0.2528 - val_loss: 0.3103 - val_regression_loss: 0.0575 - learning_rate: 1.8000e-04\n",
            "Epoch 84/100\n",
            "\u001b[1m6/7\u001b[0m \u001b[32m━━━━━━━━━━━━━━━━━\u001b[0m\u001b[37m━━━\u001b[0m \u001b[1m0s\u001b[0m 63ms/step - class_loss: 0.2528 - loss: 0.3154 - regression_loss: 0.0626\n",
            "Epoch 84: val_loss did not improve from 0.30801\n",
            "\u001b[1m7/7\u001b[0m \u001b[32m━━━━━━━━━━━━━━━━━━━━\u001b[0m\u001b[37m\u001b[0m \u001b[1m1s\u001b[0m 69ms/step - class_loss: 0.2519 - loss: 0.3155 - regression_loss: 0.0632 - val_class_loss: 0.2529 - val_loss: 0.3106 - val_regression_loss: 0.0577 - learning_rate: 1.8000e-04\n",
            "Epoch 85/100\n",
            "\u001b[1m6/7\u001b[0m \u001b[32m━━━━━━━━━━━━━━━━━\u001b[0m\u001b[37m━━━\u001b[0m \u001b[1m0s\u001b[0m 65ms/step - class_loss: 0.2474 - loss: 0.3141 - regression_loss: 0.0666\n",
            "Epoch 85: val_loss did not improve from 0.30801\n",
            "\u001b[1m7/7\u001b[0m \u001b[32m━━━━━━━━━━━━━━━━━━━━\u001b[0m\u001b[37m\u001b[0m \u001b[1m1s\u001b[0m 76ms/step - class_loss: 0.2471 - loss: 0.3139 - regression_loss: 0.0660 - val_class_loss: 0.2531 - val_loss: 0.3107 - val_regression_loss: 0.0577 - learning_rate: 1.8000e-04\n",
            "Epoch 86/100\n",
            "\u001b[1m6/7\u001b[0m \u001b[32m━━━━━━━━━━━━━━━━━\u001b[0m\u001b[37m━━━\u001b[0m \u001b[1m0s\u001b[0m 58ms/step - class_loss: 0.2463 - loss: 0.3106 - regression_loss: 0.0642\n",
            "Epoch 86: val_loss did not improve from 0.30801\n",
            "\u001b[1m7/7\u001b[0m \u001b[32m━━━━━━━━━━━━━━━━━━━━\u001b[0m\u001b[37m\u001b[0m \u001b[1m1s\u001b[0m 63ms/step - class_loss: 0.2476 - loss: 0.3118 - regression_loss: 0.0646 - val_class_loss: 0.2532 - val_loss: 0.3108 - val_regression_loss: 0.0576 - learning_rate: 1.8000e-04\n",
            "Epoch 87/100\n",
            "\u001b[1m6/7\u001b[0m \u001b[32m━━━━━━━━━━━━━━━━━\u001b[0m\u001b[37m━━━\u001b[0m \u001b[1m0s\u001b[0m 61ms/step - class_loss: 0.2513 - loss: 0.3180 - regression_loss: 0.0667\n",
            "Epoch 87: val_loss did not improve from 0.30801\n",
            "\u001b[1m7/7\u001b[0m \u001b[32m━━━━━━━━━━━━━━━━━━━━\u001b[0m\u001b[37m\u001b[0m \u001b[1m1s\u001b[0m 65ms/step - class_loss: 0.2510 - loss: 0.3173 - regression_loss: 0.0664 - val_class_loss: 0.2533 - val_loss: 0.3111 - val_regression_loss: 0.0578 - learning_rate: 1.8000e-04\n",
            "Epoch 88/100\n",
            "\u001b[1m7/7\u001b[0m \u001b[32m━━━━━━━━━━━━━━━━━━━━\u001b[0m\u001b[37m\u001b[0m \u001b[1m0s\u001b[0m 59ms/step - class_loss: 0.2487 - loss: 0.3147 - regression_loss: 0.0658\n",
            "Epoch 88: val_loss did not improve from 0.30801\n",
            "\u001b[1m7/7\u001b[0m \u001b[32m━━━━━━━━━━━━━━━━━━━━\u001b[0m\u001b[37m\u001b[0m \u001b[1m1s\u001b[0m 70ms/step - class_loss: 0.2486 - loss: 0.3145 - regression_loss: 0.0656 - val_class_loss: 0.2534 - val_loss: 0.3111 - val_regression_loss: 0.0577 - learning_rate: 1.8000e-04\n",
            "Epoch 89/100\n",
            "\u001b[1m6/7\u001b[0m \u001b[32m━━━━━━━━━━━━━━━━━\u001b[0m\u001b[37m━━━\u001b[0m \u001b[1m0s\u001b[0m 60ms/step - class_loss: 0.2501 - loss: 0.3147 - regression_loss: 0.0646\n",
            "Epoch 89: val_loss did not improve from 0.30801\n",
            "\u001b[1m7/7\u001b[0m \u001b[32m━━━━━━━━━━━━━━━━━━━━\u001b[0m\u001b[37m\u001b[0m \u001b[1m1s\u001b[0m 67ms/step - class_loss: 0.2503 - loss: 0.3150 - regression_loss: 0.0645 - val_class_loss: 0.2534 - val_loss: 0.3110 - val_regression_loss: 0.0576 - learning_rate: 1.8000e-04\n",
            "Epoch 90/100\n",
            "\u001b[1m6/7\u001b[0m \u001b[32m━━━━━━━━━━━━━━━━━\u001b[0m\u001b[37m━━━\u001b[0m \u001b[1m0s\u001b[0m 65ms/step - class_loss: 0.2524 - loss: 0.3165 - regression_loss: 0.0640\n",
            "Epoch 90: val_loss did not improve from 0.30801\n",
            "\u001b[1m7/7\u001b[0m \u001b[32m━━━━━━━━━━━━━━━━━━━━\u001b[0m\u001b[37m\u001b[0m \u001b[1m0s\u001b[0m 69ms/step - class_loss: 0.2523 - loss: 0.3169 - regression_loss: 0.0641 - val_class_loss: 0.2533 - val_loss: 0.3110 - val_regression_loss: 0.0577 - learning_rate: 1.8000e-04\n",
            "Epoch 91/100\n",
            "\u001b[1m6/7\u001b[0m \u001b[32m━━━━━━━━━━━━━━━━━\u001b[0m\u001b[37m━━━\u001b[0m \u001b[1m0s\u001b[0m 61ms/step - class_loss: 0.2477 - loss: 0.3126 - regression_loss: 0.0649\n",
            "Epoch 91: val_loss did not improve from 0.30801\n",
            "\u001b[1m7/7\u001b[0m \u001b[32m━━━━━━━━━━━━━━━━━━━━\u001b[0m\u001b[37m\u001b[0m \u001b[1m0s\u001b[0m 65ms/step - class_loss: 0.2484 - loss: 0.3130 - regression_loss: 0.0649 - val_class_loss: 0.2532 - val_loss: 0.3108 - val_regression_loss: 0.0576 - learning_rate: 1.8000e-04\n",
            "Epoch 92/100\n",
            "\u001b[1m6/7\u001b[0m \u001b[32m━━━━━━━━━━━━━━━━━\u001b[0m\u001b[37m━━━\u001b[0m \u001b[1m0s\u001b[0m 65ms/step - class_loss: 0.2526 - loss: 0.3158 - regression_loss: 0.0632\n",
            "Epoch 92: val_loss did not improve from 0.30801\n",
            "\u001b[1m7/7\u001b[0m \u001b[32m━━━━━━━━━━━━━━━━━━━━\u001b[0m\u001b[37m\u001b[0m \u001b[1m1s\u001b[0m 69ms/step - class_loss: 0.2524 - loss: 0.3165 - regression_loss: 0.0649 - val_class_loss: 0.2532 - val_loss: 0.3116 - val_regression_loss: 0.0584 - learning_rate: 1.8000e-04\n",
            "Epoch 93/100\n",
            "\u001b[1m6/7\u001b[0m \u001b[32m━━━━━━━━━━━━━━━━━\u001b[0m\u001b[37m━━━\u001b[0m \u001b[1m0s\u001b[0m 58ms/step - class_loss: 0.2515 - loss: 0.3154 - regression_loss: 0.0639\n",
            "Epoch 93: val_loss did not improve from 0.30801\n",
            "\u001b[1m7/7\u001b[0m \u001b[32m━━━━━━━━━━━━━━━━━━━━\u001b[0m\u001b[37m\u001b[0m \u001b[1m1s\u001b[0m 64ms/step - class_loss: 0.2510 - loss: 0.3156 - regression_loss: 0.0642 - val_class_loss: 0.2532 - val_loss: 0.3116 - val_regression_loss: 0.0584 - learning_rate: 1.8000e-04\n",
            "Epoch 94/100\n",
            "\u001b[1m6/7\u001b[0m \u001b[32m━━━━━━━━━━━━━━━━━\u001b[0m\u001b[37m━━━\u001b[0m \u001b[1m0s\u001b[0m 57ms/step - class_loss: 0.2479 - loss: 0.3141 - regression_loss: 0.0662\n",
            "Epoch 94: val_loss did not improve from 0.30801\n",
            "\u001b[1m7/7\u001b[0m \u001b[32m━━━━━━━━━━━━━━━━━━━━\u001b[0m\u001b[37m\u001b[0m \u001b[1m1s\u001b[0m 67ms/step - class_loss: 0.2481 - loss: 0.3140 - regression_loss: 0.0658 - val_class_loss: 0.2532 - val_loss: 0.3107 - val_regression_loss: 0.0575 - learning_rate: 1.8000e-04\n",
            "Epoch 95/100\n",
            "\u001b[1m7/7\u001b[0m \u001b[32m━━━━━━━━━━━━━━━━━━━━\u001b[0m\u001b[37m\u001b[0m \u001b[1m0s\u001b[0m 95ms/step - class_loss: 0.2537 - loss: 0.3210 - regression_loss: 0.0675 \n",
            "Epoch 95: val_loss did not improve from 0.30801\n",
            "\u001b[1m7/7\u001b[0m \u001b[32m━━━━━━━━━━━━━━━━━━━━\u001b[0m\u001b[37m\u001b[0m \u001b[1m1s\u001b[0m 114ms/step - class_loss: 0.2539 - loss: 0.3207 - regression_loss: 0.0672 - val_class_loss: 0.2531 - val_loss: 0.3105 - val_regression_loss: 0.0574 - learning_rate: 1.8000e-04\n",
            "Epoch 96/100\n",
            "\u001b[1m7/7\u001b[0m \u001b[32m━━━━━━━━━━━━━━━━━━━━\u001b[0m\u001b[37m\u001b[0m \u001b[1m0s\u001b[0m 91ms/step - class_loss: 0.2521 - loss: 0.3204 - regression_loss: 0.0682\n",
            "Epoch 96: val_loss did not improve from 0.30801\n",
            "\u001b[1m7/7\u001b[0m \u001b[32m━━━━━━━━━━━━━━━━━━━━\u001b[0m\u001b[37m\u001b[0m \u001b[1m1s\u001b[0m 110ms/step - class_loss: 0.2517 - loss: 0.3199 - regression_loss: 0.0678 - val_class_loss: 0.2530 - val_loss: 0.3107 - val_regression_loss: 0.0577 - learning_rate: 1.8000e-04\n",
            "Epoch 97/100\n",
            "\u001b[1m7/7\u001b[0m \u001b[32m━━━━━━━━━━━━━━━━━━━━\u001b[0m\u001b[37m\u001b[0m \u001b[1m0s\u001b[0m 89ms/step - class_loss: 0.2500 - loss: 0.3155 - regression_loss: 0.0655\n",
            "Epoch 97: val_loss did not improve from 0.30801\n",
            "\u001b[1m7/7\u001b[0m \u001b[32m━━━━━━━━━━━━━━━━━━━━\u001b[0m\u001b[37m\u001b[0m \u001b[1m1s\u001b[0m 104ms/step - class_loss: 0.2500 - loss: 0.3155 - regression_loss: 0.0654 - val_class_loss: 0.2530 - val_loss: 0.3106 - val_regression_loss: 0.0577 - learning_rate: 1.8000e-04\n",
            "Epoch 98/100\n",
            "\u001b[1m7/7\u001b[0m \u001b[32m━━━━━━━━━━━━━━━━━━━━\u001b[0m\u001b[37m\u001b[0m \u001b[1m0s\u001b[0m 90ms/step - class_loss: 0.2512 - loss: 0.3153 - regression_loss: 0.0640\n",
            "Epoch 98: val_loss did not improve from 0.30801\n",
            "\u001b[1m7/7\u001b[0m \u001b[32m━━━━━━━━━━━━━━━━━━━━\u001b[0m\u001b[37m\u001b[0m \u001b[1m1s\u001b[0m 102ms/step - class_loss: 0.2511 - loss: 0.3154 - regression_loss: 0.0640 - val_class_loss: 0.2530 - val_loss: 0.3105 - val_regression_loss: 0.0576 - learning_rate: 1.8000e-04\n",
            "Epoch 99/100\n",
            "\u001b[1m7/7\u001b[0m \u001b[32m━━━━━━━━━━━━━━━━━━━━\u001b[0m\u001b[37m\u001b[0m \u001b[1m0s\u001b[0m 98ms/step - class_loss: 0.2490 - loss: 0.3116 - regression_loss: 0.0629 \n",
            "Epoch 99: val_loss did not improve from 0.30801\n",
            "\u001b[1m7/7\u001b[0m \u001b[32m━━━━━━━━━━━━━━━━━━━━\u001b[0m\u001b[37m\u001b[0m \u001b[1m1s\u001b[0m 117ms/step - class_loss: 0.2492 - loss: 0.3120 - regression_loss: 0.0632 - val_class_loss: 0.2530 - val_loss: 0.3108 - val_regression_loss: 0.0577 - learning_rate: 1.8000e-04\n",
            "Epoch 100/100\n",
            "\u001b[1m6/7\u001b[0m \u001b[32m━━━━━━━━━━━━━━━━━\u001b[0m\u001b[37m━━━\u001b[0m \u001b[1m0s\u001b[0m 58ms/step - class_loss: 0.2512 - loss: 0.3141 - regression_loss: 0.0629\n",
            "Epoch 100: val_loss did not improve from 0.30801\n",
            "\u001b[1m7/7\u001b[0m \u001b[32m━━━━━━━━━━━━━━━━━━━━\u001b[0m\u001b[37m\u001b[0m \u001b[1m1s\u001b[0m 63ms/step - class_loss: 0.2517 - loss: 0.3146 - regression_loss: 0.0643 - val_class_loss: 0.2529 - val_loss: 0.3109 - val_regression_loss: 0.0580 - learning_rate: 1.8000e-04\n"
          ]
        }
      ],
      "source": [
        "history = final_model.fit(\n",
        "    [X_train, X_train_text],\n",
        "    [Y_train, Y_train2],\n",
        "    epochs=100,\n",
        "    batch_size=256,\n",
        "    verbose=1,\n",
        "    validation_data=([X_test, X_test_text], [Y_test, Y_test2]),\n",
        "    callbacks=[reduce_lr, checkpointer],\n",
        "    shuffle=True\n",
        ")\n"
      ]
    },
    {
      "cell_type": "code",
      "execution_count": 26,
      "metadata": {
        "colab": {
          "base_uri": "https://localhost:8080/",
          "height": 472
        },
        "id": "QMgcmqtouqWD",
        "outputId": "819124eb-0b8e-4707-9a45-dcfcec6fc634"
      },
      "outputs": [
        {
          "output_type": "display_data",
          "data": {
            "text/plain": [
              "<Figure size 640x480 with 1 Axes>"
            ],
            "image/png": "[encoded data removed]"
          },
          "metadata": {}
        }
      ],
      "source": [
        "import matplotlib.pyplot as plt\n",
        "\n",
        "plt.figure()\n",
        "\n",
        "plt.plot(history.history['loss'], label='train_loss')\n",
        "plt.plot(history.history['val_loss'], label='val_loss')\n",
        "\n",
        "plt.plot(history.history['regression_loss'], label='train_regression_loss')\n",
        "plt.plot(history.history['val_regression_loss'], label='val_regression_loss')\n",
        "plt.plot(history.history['class_loss'], label='train_class_loss')\n",
        "plt.plot(history.history['val_class_loss'], label='val_class_loss')\n",
        "\n",
        "plt.title('Model Loss')\n",
        "plt.ylabel('Loss')\n",
        "plt.xlabel('Epoch')\n",
        "plt.legend(loc='best')\n",
        "plt.show()\n"
      ]
    }
  ],
  "metadata": {
    "colab": {
      "provenance": [],
      "authorship_tag": "ABX9TyPk4KNS9he1n9v8WRPh+bkw",
      "include_colab_link": true
    },
    "kernelspec": {
      "display_name": "Python 3",
      "name": "python3"
    },
    "language_info": {
      "name": "python"
    }
  },
  "nbformat": 4,
  "nbformat_minor": 0
}