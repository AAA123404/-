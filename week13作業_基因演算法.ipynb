{
  "nbformat": 4,
  "nbformat_minor": 0,
  "metadata": {
    "colab": {
      "provenance": [],
      "authorship_tag": "ABX9TyPdNVk4bfLiD+riAwxf7nDS",
      "include_colab_link": true
    },
    "kernelspec": {
      "name": "python3",
      "display_name": "Python 3"
    },
    "language_info": {
      "name": "python"
    }
  },
  "cells": [
    {
      "cell_type": "markdown",
      "metadata": {
        "id": "view-in-github",
        "colab_type": "text"
      },
      "source": [
        "<a href=\"https://colab.research.google.com/github/AAA123404/Financial-big-data-analysis/blob/main/week13%E4%BD%9C%E6%A5%AD_%E5%9F%BA%E5%9B%A0%E6%BC%94%E7%AE%97%E6%B3%95.ipynb\" target=\"_parent\"><img src=\"https://colab.research.google.com/assets/colab-badge.svg\" alt=\"Open In Colab\"/></a>"
      ]
    },
    {
      "cell_type": "code",
      "source": [
        "#pip install yfinance"
      ],
      "metadata": {
        "id": "y-iYr9M9ehOd"
      },
      "execution_count": 85,
      "outputs": []
    },
    {
      "cell_type": "code",
      "source": [
        "import yfinance as yf\n",
        "import pandas as pd\n",
        "import numpy as np\n",
        "import random\n",
        "\n",
        "tsmc_ticker = \"2330.TW\"\n",
        "hon_hai_ticker = \"2317.TW\"\n",
        "start_date = \"2020-01-01\"\n",
        "end_date = \"2024-01-01\"\n",
        "\n",
        "tsmc_data = yf.download(tsmc_ticker, start=start_date, end=end_date)\n",
        "hon_hai_data = yf.download(hon_hai_ticker, start=start_date, end=end_date)\n",
        "\n",
        "tsmc_data['Daily Return'] = tsmc_data['Adj Close'].pct_change()\n",
        "hon_hai_data['Daily Return'] = hon_hai_data['Adj Close'].pct_change()\n",
        "\n",
        "\n",
        "tsmc_mean_return = tsmc_data['Daily Return'].mean()\n",
        "tsmc_volatility = tsmc_data['Daily Return'].std()\n",
        "hon_hai_mean_return = hon_hai_data['Daily Return'].mean()\n",
        "hon_hai_volatility = hon_hai_data['Daily Return'].std()\n",
        "\n",
        "data = pd.DataFrame({\n",
        "    '2330.TW': tsmc_data['Daily Return'],\n",
        "    '2317.TW': hon_hai_data['Daily Return']\n",
        "})\n",
        "correlation_matrix = data.corr()\n",
        "\n",
        "\n",
        "\n",
        "print()\n",
        "print(\"台積電平均日收益率:\", tsmc_data['Daily Return'].mean())\n",
        "print(\"台積電波動率:\", tsmc_data['Daily Return'].std())\n",
        "print(\"鴻海平均日收益率:\", hon_hai_data['Daily Return'].mean())\n",
        "print(\"鴻海波動率:\", hon_hai_data['Daily Return'].std())\n",
        "print(\"相關係數矩陣:\")\n",
        "print(correlation_matrix)\n"
      ],
      "metadata": {
        "colab": {
          "base_uri": "https://localhost:8080/"
        },
        "id": "qX3IWXZxU2_8",
        "outputId": "22208cc2-153c-468f-ad1d-2a6231b18de0"
      },
      "execution_count": 86,
      "outputs": [
        {
          "output_type": "stream",
          "name": "stderr",
          "text": [
            "[*********************100%***********************]  1 of 1 completed\n",
            "[*********************100%***********************]  1 of 1 completed"
          ]
        },
        {
          "output_type": "stream",
          "name": "stdout",
          "text": [
            "\n",
            "台積電平均日收益率: 0.0008152954804603258\n",
            "台積電波動率: 0.017338876880779806\n",
            "鴻海平均日收益率: 0.0004552035900649189\n",
            "鴻海波動率: 0.01561363827003127\n",
            "相關係數矩陣:\n",
            "         2330.TW  2317.TW\n",
            "2330.TW  1.00000  0.42758\n",
            "2317.TW  0.42758  1.00000\n"
          ]
        },
        {
          "output_type": "stream",
          "name": "stderr",
          "text": [
            "\n"
          ]
        }
      ]
    },
    {
      "cell_type": "code",
      "source": [
        "def fitness(chromosome):\n",
        "    tsmc_selected, hon_hai_selected = chromosome\n",
        "\n",
        "    portfolio_return = (tsmc_mean_return * tsmc_selected +\n",
        "                        hon_hai_mean_return * hon_hai_selected)\n",
        "    portfolio_volatility = np.sqrt(\n",
        "        (tsmc_selected * tsmc_volatility) ** 2 +\n",
        "        (hon_hai_selected * hon_hai_volatility) ** 2 +\n",
        "        2 * tsmc_selected * hon_hai_selected *\n",
        "        tsmc_volatility * hon_hai_volatility *\n",
        "        correlation_matrix.loc['2330.TW', '2317.TW']\n",
        "    )\n",
        "\n",
        "    return portfolio_return / portfolio_volatility if portfolio_volatility > 0 else 0\n",
        "\n",
        "POPULATION_SIZE = 10\n",
        "GENERATIONS = 50\n",
        "MUTATION_RATE = 0.1\n",
        "\n",
        "#初始化\n",
        "def initialize_population(size):\n",
        "    return [np.random.randint(0, 2, 2).tolist() for _ in range(size)]\n",
        "\n",
        "#選擇\n",
        "def selection(population, fitness_values):\n",
        "    total_fitness = sum(fitness_values)\n",
        "    probabilities = [f / total_fitness for f in fitness_values]\n",
        "    selected = random.choices(population, probabilities, k=2)\n",
        "    return selected\n",
        "\n",
        "#交配\n",
        "def crossover(parent1, parent2):\n",
        "    point = random.randint(0, len(parent1) - 1)\n",
        "    child1 = parent1[:point] + parent2[point:]\n",
        "    child2 = parent2[:point] + parent1[point:]\n",
        "    return child1, child2\n",
        "\n",
        "#突變\n",
        "def mutate(chromosome):\n",
        "    for i in range(len(chromosome)):\n",
        "        if random.random() < MUTATION_RATE:\n",
        "            chromosome[i] = 1 - chromosome[i]\n",
        "    return chromosome\n",
        "\n",
        "population = initialize_population(POPULATION_SIZE)\n",
        "\n",
        "for generation in range(GENERATIONS):\n",
        "    fitness_values = [fitness(chromosome) for chromosome in population]\n",
        "\n",
        "    new_population = []\n",
        "\n",
        "    while len(new_population) < POPULATION_SIZE:\n",
        "        parent1, parent2 = selection(population, fitness_values)\n",
        "        child1, child2 = crossover(parent1, parent2)\n",
        "        new_population.append(mutate(child1))\n",
        "        if len(new_population) < POPULATION_SIZE:\n",
        "            new_population.append(mutate(child2))\n",
        "\n",
        "    population = new_population\n",
        "\n",
        "results = []\n",
        "for chromosome in population:\n",
        "    tsmc_selected, hon_hai_selected = chromosome\n",
        "    portfolio_return = (tsmc_mean_return * tsmc_selected +\n",
        "                        hon_hai_mean_return * hon_hai_selected)\n",
        "    portfolio_volatility = np.sqrt(\n",
        "        (tsmc_selected * tsmc_volatility) ** 2 +\n",
        "        (hon_hai_selected * hon_hai_volatility) ** 2 +\n",
        "        2 * tsmc_selected * hon_hai_selected *\n",
        "        tsmc_volatility * hon_hai_volatility *\n",
        "        correlation_matrix.loc['2330.TW', '2317.TW']\n",
        "    )\n",
        "    fitness_value = fitness(chromosome)\n",
        "    total_selected = tsmc_selected + hon_hai_selected\n",
        "    tsmc_ratio = tsmc_selected / total_selected if total_selected > 0 else 0\n",
        "    hon_hai_ratio = hon_hai_selected / total_selected if total_selected > 0 else 0\n",
        "    results.append((chromosome, tsmc_ratio, hon_hai_ratio, portfolio_return, portfolio_volatility, fitness_value))\n",
        "\n",
        "best_result = max(results, key=lambda x: x[-1])\n",
        "chromosome, tsmc_ratio, hon_hai_ratio, portfolio_return, portfolio_volatility, fitness_value = best_result\n",
        "\n",
        "print(f\"最佳投資組合: {chromosome}, 台積電比例: {tsmc_ratio:.2f}, 鴻海比例: {hon_hai_ratio:.2f}, 回報率: {portfolio_return:.4f}, 風險: {portfolio_volatility:.4f}, 適應度值: {fitness_value:.4f}\")\n"
      ],
      "metadata": {
        "colab": {
          "base_uri": "https://localhost:8080/"
        },
        "id": "oDwVPHJkgv0J",
        "outputId": "7346f7de-d64a-4e08-df96-aaa340af4be4"
      },
      "execution_count": 87,
      "outputs": [
        {
          "output_type": "stream",
          "name": "stdout",
          "text": [
            "最佳投資組合: [1, 0], 台積電比例: 1.00, 鴻海比例: 0.00, 回報率: 0.0008, 風險: 0.0173, 適應度值: 0.0470\n"
          ]
        }
      ]
    },
    {
      "cell_type": "code",
      "source": [
        "def fitness(chromosome):\n",
        "    tsmc_weight, hon_hai_weight = chromosome\n",
        "\n",
        "\n",
        "    portfolio_return = (tsmc_mean_return * tsmc_weight +\n",
        "                        hon_hai_mean_return * hon_hai_weight)\n",
        "    portfolio_volatility = np.sqrt(\n",
        "        (tsmc_weight * tsmc_volatility) ** 2 +\n",
        "        (hon_hai_weight * hon_hai_volatility) ** 2 +\n",
        "        2 * tsmc_weight * hon_hai_weight *\n",
        "        tsmc_volatility * hon_hai_volatility *\n",
        "        correlation_matrix.loc['2330.TW', '2317.TW']\n",
        "    )\n",
        "\n",
        "    return portfolio_return / portfolio_volatility if portfolio_volatility > 0 else 0\n",
        "\n",
        "POPULATION_SIZE = 10\n",
        "GENERATIONS = 50\n",
        "MUTATION_RATE = 0.1\n",
        "\n",
        "#初始化\n",
        "def initialize_population(size):\n",
        "    return [np.random.dirichlet(np.ones(2)).tolist() for _ in range(size)]\n",
        "\n",
        "#選擇\n",
        "def selection(population, fitness_values):\n",
        "    total_fitness = sum(fitness_values)\n",
        "    probabilities = [f / total_fitness for f in fitness_values]\n",
        "    selected = random.choices(population, probabilities, k=2)\n",
        "    return selected\n",
        "\n",
        "#交配\n",
        "def crossover(parent1, parent2):\n",
        "    point = random.randint(0, len(parent1) - 1)\n",
        "    child1 = parent1[:point] + parent2[point:]\n",
        "    child2 = parent2[:point] + parent1[point:]\n",
        "    return child1, child2\n",
        "\n",
        "#突變\n",
        "def mutate(chromosome):\n",
        "    for i in range(len(chromosome)):\n",
        "        if random.random() < MUTATION_RATE:\n",
        "            chromosome[i] = abs(chromosome[i] + np.random.normal(0, 0.1))\n",
        "    total = sum(chromosome)\n",
        "    return [w / total for w in chromosome]\n",
        "\n",
        "\n",
        "population = initialize_population(POPULATION_SIZE)\n",
        "\n",
        "for generation in range(GENERATIONS):\n",
        "    fitness_values = [fitness(chromosome) for chromosome in population]\n",
        "\n",
        "    new_population = []\n",
        "\n",
        "    while len(new_population) < POPULATION_SIZE:\n",
        "        parent1, parent2 = selection(population, fitness_values)\n",
        "        child1, child2 = crossover(parent1, parent2)\n",
        "        new_population.append(mutate(child1))\n",
        "        if len(new_population) < POPULATION_SIZE:\n",
        "            new_population.append(mutate(child2))\n",
        "\n",
        "    population = new_population\n",
        "\n",
        "results = []\n",
        "for chromosome in population:\n",
        "    tsmc_weight, hon_hai_weight = chromosome\n",
        "    portfolio_return = (tsmc_mean_return * tsmc_weight +\n",
        "                        hon_hai_mean_return * hon_hai_weight)\n",
        "    portfolio_volatility = np.sqrt(\n",
        "        (tsmc_weight * tsmc_volatility) ** 2 +\n",
        "        (hon_hai_weight * hon_hai_volatility) ** 2 +\n",
        "        2 * tsmc_weight * hon_hai_weight *\n",
        "        tsmc_volatility * hon_hai_volatility *\n",
        "        correlation_matrix.loc['2330.TW', '2317.TW']\n",
        "    )\n",
        "    fitness_value = fitness(chromosome)\n",
        "    results.append((chromosome, portfolio_return, portfolio_volatility, fitness_value))\n",
        "\n",
        "\n",
        "best_result = max(results, key=lambda x: x[-1])\n",
        "chromosome, portfolio_return, portfolio_volatility, fitness_value = best_result\n",
        "\n",
        "print(f\"最佳投資組合比例: {chromosome}, 回報率: {portfolio_return:.4f}, 風險: {portfolio_volatility:.4f}, 適應度值: {fitness_value:.4f}\")"
      ],
      "metadata": {
        "colab": {
          "base_uri": "https://localhost:8080/"
        },
        "id": "n0mhWyamQpHa",
        "outputId": "f063e0d3-72e5-471e-a55b-b9843cccd73b"
      },
      "execution_count": 88,
      "outputs": [
        {
          "output_type": "stream",
          "name": "stdout",
          "text": [
            "最佳投資組合比例: [0.6431723180066505, 0.3568276819933494], 回報率: 0.0007, 風險: 0.0144, 適應度值: 0.0476\n"
          ]
        }
      ]
    }
  ]
}